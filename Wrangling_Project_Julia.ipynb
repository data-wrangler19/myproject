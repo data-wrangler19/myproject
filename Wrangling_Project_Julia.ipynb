{
 "cells": [
  {
   "cell_type": "code",
   "execution_count": 1,
   "metadata": {},
   "outputs": [
    {
     "name": "stdout",
     "output_type": "stream",
     "text": [
      "\u001b[32m\u001b[1m  Updating\u001b[22m\u001b[39m registry at `C:\\Users\\Sid\\.julia\\registries\\General`\n",
      "\u001b[32m\u001b[1m  Updating\u001b[22m\u001b[39m git-repo `https://github.com/JuliaRegistries/General.git`\n",
      "\u001b[2K\u001b[36m\u001b[1mFetching:\u001b[22m\u001b[39m [========================================>]  100.0 %.0 %]  0.8 %.5 %=====>                                   ]  12.1 % %\u001b[36m\u001b[1mFetching:\u001b[22m\u001b[39m [============>                            ]  29.8 %1 %]  50.3 %              ]  63.5 %69.9 % [===============================>         ]  75.8 %77.2 %=================================>       ]  82.0 %6 % ]  95.5 %\u001b[?25h\u001b[32m\u001b[1m Resolving\u001b[22m\u001b[39m package versions...\n",
      "\u001b[32m\u001b[1m Installed\u001b[22m\u001b[39m Compat ────── v2.2.0\n",
      "\u001b[32m\u001b[1m Installed\u001b[22m\u001b[39m PlotThemes ── v0.4.0\n",
      "\u001b[32m\u001b[1m Installed\u001b[22m\u001b[39m Polynomials ─ v0.5.3\n",
      "\u001b[32m\u001b[1m  Updating\u001b[22m\u001b[39m `C:\\Users\\Sid\\.julia\\environments\\v1.1\\Project.toml`\n",
      "\u001b[90m [no changes]\u001b[39m\n",
      "\u001b[32m\u001b[1m  Updating\u001b[22m\u001b[39m `C:\\Users\\Sid\\.julia\\environments\\v1.1\\Manifest.toml`\n",
      " \u001b[90m [34da2185]\u001b[39m\u001b[93m ↑ Compat v2.1.0 ⇒ v2.2.0\u001b[39m\n",
      " \u001b[90m [ccf2f8ad]\u001b[39m\u001b[93m ↑ PlotThemes v0.3.0 ⇒ v0.4.0\u001b[39m\n",
      " \u001b[90m [f27b6e38]\u001b[39m\u001b[93m ↑ Polynomials v0.5.2 ⇒ v0.5.3\u001b[39m\n"
     ]
    }
   ],
   "source": [
    "# using Pkg to add 'Queryverse' package\n",
    "using Pkg\n",
    "Pkg.add(\"Queryverse\")"
   ]
  },
  {
   "cell_type": "code",
   "execution_count": 2,
   "metadata": {},
   "outputs": [
    {
     "name": "stderr",
     "output_type": "stream",
     "text": [
      "┌ Info: Recompiling stale cache file C:\\Users\\Sid\\.julia\\compiled\\v1.1\\VegaDatasets\\v6OW9.ji for VegaDatasets [0ae4a718-28b7-58ec-9efb-cded64d6d5b4]\n",
      "└ @ Base loading.jl:1184\n"
     ]
    }
   ],
   "source": [
    "using VegaLite, VegaDatasets"
   ]
  },
  {
   "cell_type": "code",
   "execution_count": 59,
   "metadata": {},
   "outputs": [
    {
     "name": "stdout",
     "output_type": "stream",
     "text": [
      "\u001b[32m\u001b[1m Resolving\u001b[22m\u001b[39m package versions...\n",
      "\u001b[32m\u001b[1m  Updating\u001b[22m\u001b[39m `C:\\Users\\Sid\\.julia\\environments\\v1.1\\Project.toml`\n",
      "\u001b[90m [no changes]\u001b[39m\n",
      "\u001b[32m\u001b[1m  Updating\u001b[22m\u001b[39m `C:\\Users\\Sid\\.julia\\environments\\v1.1\\Manifest.toml`\n",
      "\u001b[90m [no changes]\u001b[39m\n"
     ]
    },
    {
     "data": {
      "text/html": [
       "<table class=\"data-frame\"><thead><tr><th></th><th>ID</th><th>Date</th><th>DateType</th><th>Age</th><th>Sex</th><th>Race</th><th>ResidenceCity</th></tr><tr><th></th><th>String</th><th>String⍰</th><th>String⍰</th><th>Int64⍰</th><th>String⍰</th><th>String⍰</th><th>String⍰</th></tr></thead><tbody><p>5,105 rows × 41 columns (omitted printing of 34 columns)</p><tr><th>1</th><td>14-0273</td><td>6/28/2014</td><td>DateReported</td><td>missing</td><td>missing</td><td>missing</td><td>missing</td></tr><tr><th>2</th><td>13-0102</td><td>3/21/2013</td><td>DateofDeath</td><td>48</td><td>Male</td><td>Black</td><td>NORWALK</td></tr><tr><th>3</th><td>16-0165</td><td>3/13/2016</td><td>DateofDeath</td><td>30</td><td>Female</td><td>White</td><td>SANDY HOOK</td></tr><tr><th>4</th><td>16-0208</td><td>3/31/2016</td><td>DateofDeath</td><td>23</td><td>Male</td><td>White</td><td>RYE</td></tr><tr><th>5</th><td>13-0052</td><td>2/13/2013</td><td>DateofDeath</td><td>22</td><td>Male</td><td>Asian, Other</td><td>FLUSHING</td></tr><tr><th>6</th><td>14-0277</td><td>6/29/2014</td><td>DateofDeath</td><td>23</td><td>Male</td><td>White</td><td>BRISTOL</td></tr><tr><th>7</th><td>12-0205</td><td>8/12/2012</td><td>DateofDeath</td><td>21</td><td>Female</td><td>White</td><td>WEST HARTFORD</td></tr><tr><th>8</th><td>13-0404</td><td>11/10/2013</td><td>DateofDeath</td><td>40</td><td>Female</td><td>White</td><td>HAMDEN</td></tr><tr><th>9</th><td>12-0107</td><td>4/25/2012</td><td>DateofDeath</td><td>40</td><td>Male</td><td>White</td><td>EAST HARTFORD</td></tr><tr><th>10</th><td>13-0161</td><td>5/15/2013</td><td>DateofDeath</td><td>50</td><td>Male</td><td>White</td><td>MONTVILLE</td></tr><tr><th>11</th><td>12-0218</td><td>8/23/2012</td><td>DateofDeath</td><td>26</td><td>Female</td><td>Hispanic, White</td><td>missing</td></tr><tr><th>12</th><td>15-0334</td><td>7/5/2015</td><td>DateReported</td><td>49</td><td>Female</td><td>White</td><td>missing</td></tr><tr><th>13</th><td>15-0728</td><td>missing</td><td>missing</td><td>missing</td><td>missing</td><td>missing</td><td>missing</td></tr><tr><th>14</th><td>15-0232</td><td>5/14/2015</td><td>DateReported</td><td>50</td><td>Male</td><td>White</td><td>DANBURY</td></tr><tr><th>15</th><td>16-0028</td><td>1/13/2016</td><td>DateofDeath</td><td>29</td><td>Male</td><td>Black</td><td>NEW HAVEN</td></tr><tr><th>16</th><td>13-0279</td><td>8/19/2013</td><td>DateofDeath</td><td>45</td><td>Male</td><td>White</td><td>HARTFORD</td></tr><tr><th>17</th><td>14-0042</td><td>1/29/2014</td><td>DateofDeath</td><td>29</td><td>Female</td><td>White</td><td>CANTERBURY</td></tr><tr><th>18</th><td>12-0060</td><td>3/2/2012</td><td>DateofDeath</td><td>42</td><td>Male</td><td>White</td><td>WALLINGFORD</td></tr><tr><th>19</th><td>16-0065</td><td>1/30/2016</td><td>DateofDeath</td><td>54</td><td>Male</td><td>White</td><td>MIDDLETOWN</td></tr><tr><th>20</th><td>16-0889</td><td>12/20/2016</td><td>DateofDeath</td><td>32</td><td>Male</td><td>White</td><td>WINDHAM</td></tr><tr><th>21</th><td>14-0474</td><td>11/14/2014</td><td>DateofDeath</td><td>47</td><td>Male</td><td>White</td><td>BRIDGEPORT</td></tr><tr><th>22</th><td>15-0263</td><td>6/2/2015</td><td>DateReported</td><td>39</td><td>Female</td><td>White</td><td>ANSONIA</td></tr><tr><th>23</th><td>14-0188</td><td>5/2/2014</td><td>DateofDeath</td><td>27</td><td>Male</td><td>missing</td><td>HAMDEN</td></tr><tr><th>24</th><td>16-0688</td><td>10/7/2016</td><td>DateofDeath</td><td>34</td><td>Male</td><td>White</td><td>COS COB</td></tr><tr><th>25</th><td>16-0495</td><td>7/16/2016</td><td>DateofDeath</td><td>27</td><td>Female</td><td>White</td><td>STRATFORD</td></tr><tr><th>26</th><td>17-0817</td><td>10/13/2017</td><td>DateReported</td><td>25</td><td>Male</td><td>White</td><td>MERIDEN</td></tr><tr><th>27</th><td>18-0095</td><td>2/10/2018</td><td>DateReported</td><td>51</td><td>Male</td><td>White</td><td>HARTFORD</td></tr><tr><th>28</th><td>15-0182</td><td>4/12/2015</td><td>DateReported</td><td>23</td><td>Male</td><td>White</td><td>DANBURY</td></tr><tr><th>29</th><td>15-0098</td><td>2/27/2015</td><td>DateReported</td><td>35</td><td>Male</td><td>White</td><td>NEW BRITAIN</td></tr><tr><th>30</th><td>18-0285</td><td>4/11/2018</td><td>DateReported</td><td>25</td><td>Male</td><td>Hispanic, White</td><td>HARRISBURG</td></tr><tr><th>&vellip;</th><td>&vellip;</td><td>&vellip;</td><td>&vellip;</td><td>&vellip;</td><td>&vellip;</td><td>&vellip;</td><td>&vellip;</td></tr></tbody></table>"
      ],
      "text/latex": [
       "\\begin{tabular}{r|cccccccc}\n",
       "\t& ID & Date & DateType & Age & Sex & Race & ResidenceCity & \\\\\n",
       "\t\\hline\n",
       "\t& String & String⍰ & String⍰ & Int64⍰ & String⍰ & String⍰ & String⍰ & \\\\\n",
       "\t\\hline\n",
       "\t1 & 14-0273 & 6/28/2014 & DateReported &  &  &  &  & $\\dots$ \\\\\n",
       "\t2 & 13-0102 & 3/21/2013 & DateofDeath & 48 & Male & Black & NORWALK & $\\dots$ \\\\\n",
       "\t3 & 16-0165 & 3/13/2016 & DateofDeath & 30 & Female & White & SANDY HOOK & $\\dots$ \\\\\n",
       "\t4 & 16-0208 & 3/31/2016 & DateofDeath & 23 & Male & White & RYE & $\\dots$ \\\\\n",
       "\t5 & 13-0052 & 2/13/2013 & DateofDeath & 22 & Male & Asian, Other & FLUSHING & $\\dots$ \\\\\n",
       "\t6 & 14-0277 & 6/29/2014 & DateofDeath & 23 & Male & White & BRISTOL & $\\dots$ \\\\\n",
       "\t7 & 12-0205 & 8/12/2012 & DateofDeath & 21 & Female & White & WEST HARTFORD & $\\dots$ \\\\\n",
       "\t8 & 13-0404 & 11/10/2013 & DateofDeath & 40 & Female & White & HAMDEN & $\\dots$ \\\\\n",
       "\t9 & 12-0107 & 4/25/2012 & DateofDeath & 40 & Male & White & EAST HARTFORD & $\\dots$ \\\\\n",
       "\t10 & 13-0161 & 5/15/2013 & DateofDeath & 50 & Male & White & MONTVILLE & $\\dots$ \\\\\n",
       "\t11 & 12-0218 & 8/23/2012 & DateofDeath & 26 & Female & Hispanic, White &  & $\\dots$ \\\\\n",
       "\t12 & 15-0334 & 7/5/2015 & DateReported & 49 & Female & White &  & $\\dots$ \\\\\n",
       "\t13 & 15-0728 &  &  &  &  &  &  & $\\dots$ \\\\\n",
       "\t14 & 15-0232 & 5/14/2015 & DateReported & 50 & Male & White & DANBURY & $\\dots$ \\\\\n",
       "\t15 & 16-0028 & 1/13/2016 & DateofDeath & 29 & Male & Black & NEW HAVEN & $\\dots$ \\\\\n",
       "\t16 & 13-0279 & 8/19/2013 & DateofDeath & 45 & Male & White & HARTFORD & $\\dots$ \\\\\n",
       "\t17 & 14-0042 & 1/29/2014 & DateofDeath & 29 & Female & White & CANTERBURY & $\\dots$ \\\\\n",
       "\t18 & 12-0060 & 3/2/2012 & DateofDeath & 42 & Male & White & WALLINGFORD & $\\dots$ \\\\\n",
       "\t19 & 16-0065 & 1/30/2016 & DateofDeath & 54 & Male & White & MIDDLETOWN & $\\dots$ \\\\\n",
       "\t20 & 16-0889 & 12/20/2016 & DateofDeath & 32 & Male & White & WINDHAM & $\\dots$ \\\\\n",
       "\t21 & 14-0474 & 11/14/2014 & DateofDeath & 47 & Male & White & BRIDGEPORT & $\\dots$ \\\\\n",
       "\t22 & 15-0263 & 6/2/2015 & DateReported & 39 & Female & White & ANSONIA & $\\dots$ \\\\\n",
       "\t23 & 14-0188 & 5/2/2014 & DateofDeath & 27 & Male &  & HAMDEN & $\\dots$ \\\\\n",
       "\t24 & 16-0688 & 10/7/2016 & DateofDeath & 34 & Male & White & COS COB & $\\dots$ \\\\\n",
       "\t25 & 16-0495 & 7/16/2016 & DateofDeath & 27 & Female & White & STRATFORD & $\\dots$ \\\\\n",
       "\t26 & 17-0817 & 10/13/2017 & DateReported & 25 & Male & White & MERIDEN & $\\dots$ \\\\\n",
       "\t27 & 18-0095 & 2/10/2018 & DateReported & 51 & Male & White & HARTFORD & $\\dots$ \\\\\n",
       "\t28 & 15-0182 & 4/12/2015 & DateReported & 23 & Male & White & DANBURY & $\\dots$ \\\\\n",
       "\t29 & 15-0098 & 2/27/2015 & DateReported & 35 & Male & White & NEW BRITAIN & $\\dots$ \\\\\n",
       "\t30 & 18-0285 & 4/11/2018 & DateReported & 25 & Male & Hispanic, White & HARRISBURG & $\\dots$ \\\\\n",
       "\t$\\dots$ & $\\dots$ & $\\dots$ & $\\dots$ & $\\dots$ & $\\dots$ & $\\dots$ & $\\dots$ &  \\\\\n",
       "\\end{tabular}\n"
      ],
      "text/plain": [
       "5105×41 DataFrame. Omitted printing of 36 columns\n",
       "│ Row  │ ID      │ Date       │ DateType     │ Age     │ Sex     │\n",
       "│      │ \u001b[90mString\u001b[39m  │ \u001b[90mString⍰\u001b[39m    │ \u001b[90mString⍰\u001b[39m      │ \u001b[90mInt64⍰\u001b[39m  │ \u001b[90mString⍰\u001b[39m │\n",
       "├──────┼─────────┼────────────┼──────────────┼─────────┼─────────┤\n",
       "│ 1    │ 14-0273 │ 6/28/2014  │ DateReported │ \u001b[90mmissing\u001b[39m │ \u001b[90mmissing\u001b[39m │\n",
       "│ 2    │ 13-0102 │ 3/21/2013  │ DateofDeath  │ 48      │ Male    │\n",
       "│ 3    │ 16-0165 │ 3/13/2016  │ DateofDeath  │ 30      │ Female  │\n",
       "│ 4    │ 16-0208 │ 3/31/2016  │ DateofDeath  │ 23      │ Male    │\n",
       "│ 5    │ 13-0052 │ 2/13/2013  │ DateofDeath  │ 22      │ Male    │\n",
       "│ 6    │ 14-0277 │ 6/29/2014  │ DateofDeath  │ 23      │ Male    │\n",
       "│ 7    │ 12-0205 │ 8/12/2012  │ DateofDeath  │ 21      │ Female  │\n",
       "│ 8    │ 13-0404 │ 11/10/2013 │ DateofDeath  │ 40      │ Female  │\n",
       "│ 9    │ 12-0107 │ 4/25/2012  │ DateofDeath  │ 40      │ Male    │\n",
       "│ 10   │ 13-0161 │ 5/15/2013  │ DateofDeath  │ 50      │ Male    │\n",
       "⋮\n",
       "│ 5095 │ 12-0091 │ 4/6/2012   │ DateofDeath  │ 16      │ Male    │\n",
       "│ 5096 │ 18-0206 │ 3/17/2018  │ DateReported │ 37      │ Male    │\n",
       "│ 5097 │ 16-0520 │ 7/31/2016  │ DateofDeath  │ 54      │ Female  │\n",
       "│ 5098 │ 17-0947 │ 12/2/2017  │ DateReported │ 28      │ Female  │\n",
       "│ 5099 │ 14-0166 │ 4/17/2014  │ DateofDeath  │ 56      │ Male    │\n",
       "│ 5100 │ 15-0013 │ 1/7/2015   │ DateReported │ 45      │ Female  │\n",
       "│ 5101 │ 15-0466 │ 9/8/2015   │ DateReported │ 43      │ Male    │\n",
       "│ 5102 │ 17-0618 │ 7/22/2017  │ DateReported │ 21      │ Male    │\n",
       "│ 5103 │ 18-0646 │ 8/14/2018  │ DateofDeath  │ 30      │ Male    │\n",
       "│ 5104 │ 14-0124 │ 3/16/2014  │ DateofDeath  │ 33      │ Male    │\n",
       "│ 5105 │ 16-0637 │ 9/15/2016  │ DateofDeath  │ 33      │ Male    │"
      ]
     },
     "execution_count": 59,
     "metadata": {},
     "output_type": "execute_result"
    }
   ],
   "source": [
    "# loading 'CSV' package to read csv file and load into Dataset_Accidental data set\n",
    "Pkg.add(\"CSV\")\n",
    "using CSV\n",
    "# Dataset_Accidental = CSV.read(\"C:/Users/Sid/Desktop/Accidental_Drug_Related_Deaths_2012-2018.csv\")\n",
    "Dataset_Accidental = CSV.read(\"C:/Users/Sid/Desktop/Accidental_Drug_Related_Deaths_2012-2018test3.csv\")\n",
    "#Dataset_Accidental = CSV.read(\"C:/Users/Sid/Desktop/Pratice1.csv\")"
   ]
  },
  {
   "cell_type": "code",
   "execution_count": 60,
   "metadata": {},
   "outputs": [
    {
     "data": {
      "text/plain": [
       "DataFrame"
      ]
     },
     "execution_count": 60,
     "metadata": {},
     "output_type": "execute_result"
    }
   ],
   "source": [
    "using DataFrames\n",
    "Accidental_df = DataFrame(Dataset_Accidental)\n",
    "typeof(Accidental_df)"
   ]
  },
  {
   "cell_type": "code",
   "execution_count": 61,
   "metadata": {},
   "outputs": [
    {
     "data": {
      "text/plain": [
       "DataFrame"
      ]
     },
     "execution_count": 61,
     "metadata": {},
     "output_type": "execute_result"
    }
   ],
   "source": [
    "# load into Dataset_Zipcode data set\n",
    "Dataset_Zipcode = CSV.read(\"C:/Users/Sid/Desktop/Zipcode.csv\")\n",
    "using DataFrames\n",
    "Zipcode_df = DataFrame(Dataset_Zipcode)\n",
    "typeof(Zipcode_df)"
   ]
  },
  {
   "cell_type": "code",
   "execution_count": 62,
   "metadata": {},
   "outputs": [
    {
     "data": {
      "text/html": [
       "<table class=\"data-frame\"><thead><tr><th></th><th>ID</th><th>Date</th><th>DateType</th><th>Age</th><th>Sex</th><th>Race</th><th>ResidenceCity</th></tr><tr><th></th><th>String</th><th>String⍰</th><th>String⍰</th><th>Int64⍰</th><th>String⍰</th><th>String⍰</th><th>String⍰</th></tr></thead><tbody><p>4,877 rows × 47 columns (omitted printing of 40 columns)</p><tr><th>1</th><td>13-0102</td><td>3/21/2013</td><td>DateofDeath</td><td>48</td><td>Male</td><td>Black</td><td>NORWALK</td></tr><tr><th>2</th><td>16-0165</td><td>3/13/2016</td><td>DateofDeath</td><td>30</td><td>Female</td><td>White</td><td>SANDY HOOK</td></tr><tr><th>3</th><td>16-0208</td><td>3/31/2016</td><td>DateofDeath</td><td>23</td><td>Male</td><td>White</td><td>RYE</td></tr><tr><th>4</th><td>13-0052</td><td>2/13/2013</td><td>DateofDeath</td><td>22</td><td>Male</td><td>Asian, Other</td><td>FLUSHING</td></tr><tr><th>5</th><td>14-0277</td><td>6/29/2014</td><td>DateofDeath</td><td>23</td><td>Male</td><td>White</td><td>BRISTOL</td></tr><tr><th>6</th><td>12-0205</td><td>8/12/2012</td><td>DateofDeath</td><td>21</td><td>Female</td><td>White</td><td>WEST HARTFORD</td></tr><tr><th>7</th><td>13-0404</td><td>11/10/2013</td><td>DateofDeath</td><td>40</td><td>Female</td><td>White</td><td>HAMDEN</td></tr><tr><th>8</th><td>12-0107</td><td>4/25/2012</td><td>DateofDeath</td><td>40</td><td>Male</td><td>White</td><td>EAST HARTFORD</td></tr><tr><th>9</th><td>13-0161</td><td>5/15/2013</td><td>DateofDeath</td><td>50</td><td>Male</td><td>White</td><td>MONTVILLE</td></tr><tr><th>10</th><td>15-0232</td><td>5/14/2015</td><td>DateReported</td><td>50</td><td>Male</td><td>White</td><td>DANBURY</td></tr><tr><th>11</th><td>16-0028</td><td>1/13/2016</td><td>DateofDeath</td><td>29</td><td>Male</td><td>Black</td><td>NEW HAVEN</td></tr><tr><th>12</th><td>13-0279</td><td>8/19/2013</td><td>DateofDeath</td><td>45</td><td>Male</td><td>White</td><td>HARTFORD</td></tr><tr><th>13</th><td>14-0042</td><td>1/29/2014</td><td>DateofDeath</td><td>29</td><td>Female</td><td>White</td><td>CANTERBURY</td></tr><tr><th>14</th><td>12-0060</td><td>3/2/2012</td><td>DateofDeath</td><td>42</td><td>Male</td><td>White</td><td>WALLINGFORD</td></tr><tr><th>15</th><td>16-0065</td><td>1/30/2016</td><td>DateofDeath</td><td>54</td><td>Male</td><td>White</td><td>MIDDLETOWN</td></tr><tr><th>16</th><td>16-0889</td><td>12/20/2016</td><td>DateofDeath</td><td>32</td><td>Male</td><td>White</td><td>WINDHAM</td></tr><tr><th>17</th><td>14-0474</td><td>11/14/2014</td><td>DateofDeath</td><td>47</td><td>Male</td><td>White</td><td>BRIDGEPORT</td></tr><tr><th>18</th><td>15-0263</td><td>6/2/2015</td><td>DateReported</td><td>39</td><td>Female</td><td>White</td><td>ANSONIA</td></tr><tr><th>19</th><td>14-0188</td><td>5/2/2014</td><td>DateofDeath</td><td>27</td><td>Male</td><td>missing</td><td>HAMDEN</td></tr><tr><th>20</th><td>16-0688</td><td>10/7/2016</td><td>DateofDeath</td><td>34</td><td>Male</td><td>White</td><td>COS COB</td></tr><tr><th>21</th><td>16-0495</td><td>7/16/2016</td><td>DateofDeath</td><td>27</td><td>Female</td><td>White</td><td>STRATFORD</td></tr><tr><th>22</th><td>17-0817</td><td>10/13/2017</td><td>DateReported</td><td>25</td><td>Male</td><td>White</td><td>MERIDEN</td></tr><tr><th>23</th><td>18-0095</td><td>2/10/2018</td><td>DateReported</td><td>51</td><td>Male</td><td>White</td><td>HARTFORD</td></tr><tr><th>24</th><td>15-0182</td><td>4/12/2015</td><td>DateReported</td><td>23</td><td>Male</td><td>White</td><td>DANBURY</td></tr><tr><th>25</th><td>15-0098</td><td>2/27/2015</td><td>DateReported</td><td>35</td><td>Male</td><td>White</td><td>NEW BRITAIN</td></tr><tr><th>26</th><td>18-0285</td><td>4/11/2018</td><td>DateReported</td><td>25</td><td>Male</td><td>Hispanic, White</td><td>HARRISBURG</td></tr><tr><th>27</th><td>16-0316</td><td>5/10/2016</td><td>DateofDeath</td><td>43</td><td>Male</td><td>White</td><td>MELROSE</td></tr><tr><th>28</th><td>13-0441</td><td>12/4/2013</td><td>DateofDeath</td><td>48</td><td>Male</td><td>White</td><td>NORTH SALEM</td></tr><tr><th>29</th><td>18-0468</td><td>6/18/2018</td><td>DateReported</td><td>40</td><td>Female</td><td>White</td><td>TORRINGTON</td></tr><tr><th>30</th><td>18-0355</td><td>5/9/2018</td><td>DateReported</td><td>49</td><td>Female</td><td>White</td><td>SOUTHBURY</td></tr><tr><th>&vellip;</th><td>&vellip;</td><td>&vellip;</td><td>&vellip;</td><td>&vellip;</td><td>&vellip;</td><td>&vellip;</td><td>&vellip;</td></tr></tbody></table>"
      ],
      "text/latex": [
       "\\begin{tabular}{r|cccccccc}\n",
       "\t& ID & Date & DateType & Age & Sex & Race & ResidenceCity & \\\\\n",
       "\t\\hline\n",
       "\t& String & String⍰ & String⍰ & Int64⍰ & String⍰ & String⍰ & String⍰ & \\\\\n",
       "\t\\hline\n",
       "\t1 & 13-0102 & 3/21/2013 & DateofDeath & 48 & Male & Black & NORWALK & $\\dots$ \\\\\n",
       "\t2 & 16-0165 & 3/13/2016 & DateofDeath & 30 & Female & White & SANDY HOOK & $\\dots$ \\\\\n",
       "\t3 & 16-0208 & 3/31/2016 & DateofDeath & 23 & Male & White & RYE & $\\dots$ \\\\\n",
       "\t4 & 13-0052 & 2/13/2013 & DateofDeath & 22 & Male & Asian, Other & FLUSHING & $\\dots$ \\\\\n",
       "\t5 & 14-0277 & 6/29/2014 & DateofDeath & 23 & Male & White & BRISTOL & $\\dots$ \\\\\n",
       "\t6 & 12-0205 & 8/12/2012 & DateofDeath & 21 & Female & White & WEST HARTFORD & $\\dots$ \\\\\n",
       "\t7 & 13-0404 & 11/10/2013 & DateofDeath & 40 & Female & White & HAMDEN & $\\dots$ \\\\\n",
       "\t8 & 12-0107 & 4/25/2012 & DateofDeath & 40 & Male & White & EAST HARTFORD & $\\dots$ \\\\\n",
       "\t9 & 13-0161 & 5/15/2013 & DateofDeath & 50 & Male & White & MONTVILLE & $\\dots$ \\\\\n",
       "\t10 & 15-0232 & 5/14/2015 & DateReported & 50 & Male & White & DANBURY & $\\dots$ \\\\\n",
       "\t11 & 16-0028 & 1/13/2016 & DateofDeath & 29 & Male & Black & NEW HAVEN & $\\dots$ \\\\\n",
       "\t12 & 13-0279 & 8/19/2013 & DateofDeath & 45 & Male & White & HARTFORD & $\\dots$ \\\\\n",
       "\t13 & 14-0042 & 1/29/2014 & DateofDeath & 29 & Female & White & CANTERBURY & $\\dots$ \\\\\n",
       "\t14 & 12-0060 & 3/2/2012 & DateofDeath & 42 & Male & White & WALLINGFORD & $\\dots$ \\\\\n",
       "\t15 & 16-0065 & 1/30/2016 & DateofDeath & 54 & Male & White & MIDDLETOWN & $\\dots$ \\\\\n",
       "\t16 & 16-0889 & 12/20/2016 & DateofDeath & 32 & Male & White & WINDHAM & $\\dots$ \\\\\n",
       "\t17 & 14-0474 & 11/14/2014 & DateofDeath & 47 & Male & White & BRIDGEPORT & $\\dots$ \\\\\n",
       "\t18 & 15-0263 & 6/2/2015 & DateReported & 39 & Female & White & ANSONIA & $\\dots$ \\\\\n",
       "\t19 & 14-0188 & 5/2/2014 & DateofDeath & 27 & Male &  & HAMDEN & $\\dots$ \\\\\n",
       "\t20 & 16-0688 & 10/7/2016 & DateofDeath & 34 & Male & White & COS COB & $\\dots$ \\\\\n",
       "\t21 & 16-0495 & 7/16/2016 & DateofDeath & 27 & Female & White & STRATFORD & $\\dots$ \\\\\n",
       "\t22 & 17-0817 & 10/13/2017 & DateReported & 25 & Male & White & MERIDEN & $\\dots$ \\\\\n",
       "\t23 & 18-0095 & 2/10/2018 & DateReported & 51 & Male & White & HARTFORD & $\\dots$ \\\\\n",
       "\t24 & 15-0182 & 4/12/2015 & DateReported & 23 & Male & White & DANBURY & $\\dots$ \\\\\n",
       "\t25 & 15-0098 & 2/27/2015 & DateReported & 35 & Male & White & NEW BRITAIN & $\\dots$ \\\\\n",
       "\t26 & 18-0285 & 4/11/2018 & DateReported & 25 & Male & Hispanic, White & HARRISBURG & $\\dots$ \\\\\n",
       "\t27 & 16-0316 & 5/10/2016 & DateofDeath & 43 & Male & White & MELROSE & $\\dots$ \\\\\n",
       "\t28 & 13-0441 & 12/4/2013 & DateofDeath & 48 & Male & White & NORTH SALEM & $\\dots$ \\\\\n",
       "\t29 & 18-0468 & 6/18/2018 & DateReported & 40 & Female & White & TORRINGTON & $\\dots$ \\\\\n",
       "\t30 & 18-0355 & 5/9/2018 & DateReported & 49 & Female & White & SOUTHBURY & $\\dots$ \\\\\n",
       "\t$\\dots$ & $\\dots$ & $\\dots$ & $\\dots$ & $\\dots$ & $\\dots$ & $\\dots$ & $\\dots$ &  \\\\\n",
       "\\end{tabular}\n"
      ],
      "text/plain": [
       "4877×47 DataFrame. Omitted printing of 41 columns\n",
       "│ Row  │ ID      │ Date       │ DateType     │ Age    │ Sex     │ Race         │\n",
       "│      │ \u001b[90mString\u001b[39m  │ \u001b[90mString⍰\u001b[39m    │ \u001b[90mString⍰\u001b[39m      │ \u001b[90mInt64⍰\u001b[39m │ \u001b[90mString⍰\u001b[39m │ \u001b[90mString⍰\u001b[39m      │\n",
       "├──────┼─────────┼────────────┼──────────────┼────────┼─────────┼──────────────┤\n",
       "│ 1    │ 13-0102 │ 3/21/2013  │ DateofDeath  │ 48     │ Male    │ Black        │\n",
       "│ 2    │ 16-0165 │ 3/13/2016  │ DateofDeath  │ 30     │ Female  │ White        │\n",
       "│ 3    │ 16-0208 │ 3/31/2016  │ DateofDeath  │ 23     │ Male    │ White        │\n",
       "│ 4    │ 13-0052 │ 2/13/2013  │ DateofDeath  │ 22     │ Male    │ Asian, Other │\n",
       "│ 5    │ 14-0277 │ 6/29/2014  │ DateofDeath  │ 23     │ Male    │ White        │\n",
       "│ 6    │ 12-0205 │ 8/12/2012  │ DateofDeath  │ 21     │ Female  │ White        │\n",
       "│ 7    │ 13-0404 │ 11/10/2013 │ DateofDeath  │ 40     │ Female  │ White        │\n",
       "│ 8    │ 12-0107 │ 4/25/2012  │ DateofDeath  │ 40     │ Male    │ White        │\n",
       "│ 9    │ 13-0161 │ 5/15/2013  │ DateofDeath  │ 50     │ Male    │ White        │\n",
       "│ 10   │ 15-0232 │ 5/14/2015  │ DateReported │ 50     │ Male    │ White        │\n",
       "⋮\n",
       "│ 4867 │ 12-0091 │ 4/6/2012   │ DateofDeath  │ 16     │ Male    │ White        │\n",
       "│ 4868 │ 18-0206 │ 3/17/2018  │ DateReported │ 37     │ Male    │ White        │\n",
       "│ 4869 │ 16-0520 │ 7/31/2016  │ DateofDeath  │ 54     │ Female  │ White        │\n",
       "│ 4870 │ 17-0947 │ 12/2/2017  │ DateReported │ 28     │ Female  │ White        │\n",
       "│ 4871 │ 14-0166 │ 4/17/2014  │ DateofDeath  │ 56     │ Male    │ White        │\n",
       "│ 4872 │ 15-0013 │ 1/7/2015   │ DateReported │ 45     │ Female  │ White        │\n",
       "│ 4873 │ 15-0466 │ 9/8/2015   │ DateReported │ 43     │ Male    │ White        │\n",
       "│ 4874 │ 17-0618 │ 7/22/2017  │ DateReported │ 21     │ Male    │ White        │\n",
       "│ 4875 │ 18-0646 │ 8/14/2018  │ DateofDeath  │ 30     │ Male    │ White        │\n",
       "│ 4876 │ 14-0124 │ 3/16/2014  │ DateofDeath  │ 33     │ Male    │ White        │\n",
       "│ 4877 │ 16-0637 │ 9/15/2016  │ DateofDeath  │ 33     │ Male    │ White        │"
      ]
     },
     "execution_count": 62,
     "metadata": {},
     "output_type": "execute_result"
    }
   ],
   "source": [
    "# using join to join two DataFrames based on 'ResidenceCity' column\n",
    "Data_DrugAccident_joined = join(Accidental_df,Zipcode_df,on=:ResidenceCity,kind=:inner,makeunique=true)\n",
    "Data_DrugAccident_joined"
   ]
  },
  {
   "cell_type": "code",
   "execution_count": 63,
   "metadata": {},
   "outputs": [
    {
     "name": "stdout",
     "output_type": "stream",
     "text": [
      "\u001b[32m\u001b[1m Resolving\u001b[22m\u001b[39m package versions...\n",
      "\u001b[32m\u001b[1m  Updating\u001b[22m\u001b[39m `C:\\Users\\Sid\\.julia\\environments\\v1.1\\Project.toml`\n",
      "\u001b[90m [no changes]\u001b[39m\n",
      "\u001b[32m\u001b[1m  Updating\u001b[22m\u001b[39m `C:\\Users\\Sid\\.julia\\environments\\v1.1\\Manifest.toml`\n",
      "\u001b[90m [no changes]\u001b[39m\n"
     ]
    }
   ],
   "source": [
    "# loading package Query\n",
    "Pkg.add(\"Query\")"
   ]
  },
  {
   "cell_type": "code",
   "execution_count": 64,
   "metadata": {},
   "outputs": [
    {
     "data": {
      "text/html": [
       "<table class=\"data-frame\"><thead><tr><th></th><th>ID</th><th>Date</th><th>DateType</th><th>Age</th><th>Sex</th><th>Race</th><th>ResidenceCity</th><th>ResidenceCounty</th></tr><tr><th></th><th>String</th><th>String⍰</th><th>String⍰</th><th>Int64⍰</th><th>String⍰</th><th>String⍰</th><th>String⍰</th><th>String⍰</th></tr></thead><tbody><p>6 rows × 47 columns (omitted printing of 39 columns)</p><tr><th>1</th><td>14-0042</td><td>1/29/2014</td><td>DateofDeath</td><td>29</td><td>Female</td><td>White</td><td>CANTERBURY</td><td>missing</td></tr><tr><th>2</th><td>17-0547</td><td>7/2/2017</td><td>DateReported</td><td>43</td><td>Male</td><td>White</td><td>CANTERBURY</td><td>WINDHAM</td></tr><tr><th>3</th><td>18-0769</td><td>9/29/2018</td><td>DateofDeath</td><td>37</td><td>Male</td><td>White</td><td>CANTERBURY</td><td>WINDHAM</td></tr><tr><th>4</th><td>17-0252</td><td>3/25/2017</td><td>DateReported</td><td>43</td><td>Male</td><td>White</td><td>CANTERBURY</td><td>WINDHAM</td></tr><tr><th>5</th><td>17-0149</td><td>2/17/2017</td><td>DateReported</td><td>49</td><td>Female</td><td>White</td><td>CANTERBURY</td><td>WINDHAM</td></tr><tr><th>6</th><td>15-0365</td><td>7/17/2015</td><td>DateReported</td><td>42</td><td>Male</td><td>White</td><td>CANTERBURY</td><td>WINDHAM</td></tr></tbody></table>"
      ],
      "text/latex": [
       "\\begin{tabular}{r|ccccccccc}\n",
       "\t& ID & Date & DateType & Age & Sex & Race & ResidenceCity & ResidenceCounty & \\\\\n",
       "\t\\hline\n",
       "\t& String & String⍰ & String⍰ & Int64⍰ & String⍰ & String⍰ & String⍰ & String⍰ & \\\\\n",
       "\t\\hline\n",
       "\t1 & 14-0042 & 1/29/2014 & DateofDeath & 29 & Female & White & CANTERBURY &  & $\\dots$ \\\\\n",
       "\t2 & 17-0547 & 7/2/2017 & DateReported & 43 & Male & White & CANTERBURY & WINDHAM & $\\dots$ \\\\\n",
       "\t3 & 18-0769 & 9/29/2018 & DateofDeath & 37 & Male & White & CANTERBURY & WINDHAM & $\\dots$ \\\\\n",
       "\t4 & 17-0252 & 3/25/2017 & DateReported & 43 & Male & White & CANTERBURY & WINDHAM & $\\dots$ \\\\\n",
       "\t5 & 17-0149 & 2/17/2017 & DateReported & 49 & Female & White & CANTERBURY & WINDHAM & $\\dots$ \\\\\n",
       "\t6 & 15-0365 & 7/17/2015 & DateReported & 42 & Male & White & CANTERBURY & WINDHAM & $\\dots$ \\\\\n",
       "\\end{tabular}\n"
      ],
      "text/plain": [
       "6×47 DataFrame. Omitted printing of 41 columns\n",
       "│ Row │ ID      │ Date      │ DateType     │ Age    │ Sex     │ Race    │\n",
       "│     │ \u001b[90mString\u001b[39m  │ \u001b[90mString⍰\u001b[39m   │ \u001b[90mString⍰\u001b[39m      │ \u001b[90mInt64⍰\u001b[39m │ \u001b[90mString⍰\u001b[39m │ \u001b[90mString⍰\u001b[39m │\n",
       "├─────┼─────────┼───────────┼──────────────┼────────┼─────────┼─────────┤\n",
       "│ 1   │ 14-0042 │ 1/29/2014 │ DateofDeath  │ 29     │ Female  │ White   │\n",
       "│ 2   │ 17-0547 │ 7/2/2017  │ DateReported │ 43     │ Male    │ White   │\n",
       "│ 3   │ 18-0769 │ 9/29/2018 │ DateofDeath  │ 37     │ Male    │ White   │\n",
       "│ 4   │ 17-0252 │ 3/25/2017 │ DateReported │ 43     │ Male    │ White   │\n",
       "│ 5   │ 17-0149 │ 2/17/2017 │ DateReported │ 49     │ Female  │ White   │\n",
       "│ 6   │ 15-0365 │ 7/17/2015 │ DateReported │ 42     │ Male    │ White   │"
      ]
     },
     "execution_count": 64,
     "metadata": {},
     "output_type": "execute_result"
    }
   ],
   "source": [
    "# using package Query to filter data based on 'CANTERBURY' value in 'Residencecity' column\n",
    "using Query\n",
    "Filtered_DataFrame = Data_DrugAccident_joined |>\n",
    "  @filter(_.ResidenceCity == \"CANTERBURY\") |>\n",
    "  DataFrame"
   ]
  },
  {
   "cell_type": "code",
   "execution_count": 65,
   "metadata": {},
   "outputs": [
    {
     "data": {
      "text/html": [
       "<p><b>GroupedDataFrame with 2 groups based on key: DateType</b></p><p><i>First Group (2 rows): DateType = \"DateofDeath\"</i></p><table class=\"data-frame\"><thead><tr><th></th><th>ID</th><th>Date</th><th>DateType</th><th>Age</th><th>Sex</th><th>Race</th><th>ResidenceCity</th><th>ResidenceCounty</th></tr><tr><th></th><th>String</th><th>String⍰</th><th>String⍰</th><th>Int64⍰</th><th>String⍰</th><th>String⍰</th><th>String⍰</th><th>String⍰</th></tr></thead><tbody><tr><th>1</th><td>14-0042</td><td>1/29/2014</td><td>DateofDeath</td><td>29</td><td>Female</td><td>White</td><td>CANTERBURY</td><td>missing</td></tr><tr><th>2</th><td>18-0769</td><td>9/29/2018</td><td>DateofDeath</td><td>37</td><td>Male</td><td>White</td><td>CANTERBURY</td><td>WINDHAM</td></tr></tbody></table><p>&vellip;</p><p><i>Last Group (4 rows): DateType = \"DateReported\"</i></p><table class=\"data-frame\"><thead><tr><th></th><th>ID</th><th>Date</th><th>DateType</th><th>Age</th><th>Sex</th><th>Race</th><th>ResidenceCity</th><th>ResidenceCounty</th></tr><tr><th></th><th>String</th><th>String⍰</th><th>String⍰</th><th>Int64⍰</th><th>String⍰</th><th>String⍰</th><th>String⍰</th><th>String⍰</th></tr></thead><tbody><tr><th>1</th><td>17-0547</td><td>7/2/2017</td><td>DateReported</td><td>43</td><td>Male</td><td>White</td><td>CANTERBURY</td><td>WINDHAM</td></tr><tr><th>2</th><td>17-0252</td><td>3/25/2017</td><td>DateReported</td><td>43</td><td>Male</td><td>White</td><td>CANTERBURY</td><td>WINDHAM</td></tr><tr><th>3</th><td>17-0149</td><td>2/17/2017</td><td>DateReported</td><td>49</td><td>Female</td><td>White</td><td>CANTERBURY</td><td>WINDHAM</td></tr><tr><th>4</th><td>15-0365</td><td>7/17/2015</td><td>DateReported</td><td>42</td><td>Male</td><td>White</td><td>CANTERBURY</td><td>WINDHAM</td></tr></tbody></table>"
      ],
      "text/latex": [
       "GroupedDataFrame with 2 groups based on key: DateType\n",
       "\n",
       "First Group (2 rows): DateType = \"DateofDeath\"\n",
       "\n",
       "\\begin{tabular}{r|ccccccccc}\n",
       "\t& ID & Date & DateType & Age & Sex & Race & ResidenceCity & ResidenceCounty & \\\\\n",
       "\t\\hline\n",
       "\t& String & String⍰ & String⍰ & Int64⍰ & String⍰ & String⍰ & String⍰ & String⍰ & \\\\\n",
       "\t\\hline\n",
       "\t1 & 14-0042 & 1/29/2014 & DateofDeath & 29 & Female & White & CANTERBURY &  & $\\dots$ \\\\\n",
       "\t2 & 18-0769 & 9/29/2018 & DateofDeath & 37 & Male & White & CANTERBURY & WINDHAM & $\\dots$ \\\\\n",
       "\\end{tabular}\n",
       "\n",
       "$\\dots$\n",
       "\n",
       "Last Group (4 rows): DateType = \"DateReported\"\n",
       "\n",
       "\\begin{tabular}{r|ccccccccc}\n",
       "\t& ID & Date & DateType & Age & Sex & Race & ResidenceCity & ResidenceCounty & \\\\\n",
       "\t\\hline\n",
       "\t& String & String⍰ & String⍰ & Int64⍰ & String⍰ & String⍰ & String⍰ & String⍰ & \\\\\n",
       "\t\\hline\n",
       "\t1 & 17-0547 & 7/2/2017 & DateReported & 43 & Male & White & CANTERBURY & WINDHAM & $\\dots$ \\\\\n",
       "\t2 & 17-0252 & 3/25/2017 & DateReported & 43 & Male & White & CANTERBURY & WINDHAM & $\\dots$ \\\\\n",
       "\t3 & 17-0149 & 2/17/2017 & DateReported & 49 & Female & White & CANTERBURY & WINDHAM & $\\dots$ \\\\\n",
       "\t4 & 15-0365 & 7/17/2015 & DateReported & 42 & Male & White & CANTERBURY & WINDHAM & $\\dots$ \\\\\n",
       "\\end{tabular}\n"
      ],
      "text/plain": [
       "GroupedDataFrame with 2 groups based on key: DateType\n",
       "First Group (2 rows): DateType = \"DateofDeath\". Omitted printing of 41 columns\n",
       "│ Row │ ID      │ Date      │ DateType    │ Age    │ Sex     │ Race    │\n",
       "│     │ \u001b[90mString\u001b[39m  │ \u001b[90mString⍰\u001b[39m   │ \u001b[90mString⍰\u001b[39m     │ \u001b[90mInt64⍰\u001b[39m │ \u001b[90mString⍰\u001b[39m │ \u001b[90mString⍰\u001b[39m │\n",
       "├─────┼─────────┼───────────┼─────────────┼────────┼─────────┼─────────┤\n",
       "│ 1   │ 14-0042 │ 1/29/2014 │ DateofDeath │ 29     │ Female  │ White   │\n",
       "│ 2   │ 18-0769 │ 9/29/2018 │ DateofDeath │ 37     │ Male    │ White   │\n",
       "⋮\n",
       "Last Group (4 rows): DateType = \"DateReported\". Omitted printing of 41 columns\n",
       "│ Row │ ID      │ Date      │ DateType     │ Age    │ Sex     │ Race    │\n",
       "│     │ \u001b[90mString\u001b[39m  │ \u001b[90mString⍰\u001b[39m   │ \u001b[90mString⍰\u001b[39m      │ \u001b[90mInt64⍰\u001b[39m │ \u001b[90mString⍰\u001b[39m │ \u001b[90mString⍰\u001b[39m │\n",
       "├─────┼─────────┼───────────┼──────────────┼────────┼─────────┼─────────┤\n",
       "│ 1   │ 17-0547 │ 7/2/2017  │ DateReported │ 43     │ Male    │ White   │\n",
       "│ 2   │ 17-0252 │ 3/25/2017 │ DateReported │ 43     │ Male    │ White   │\n",
       "│ 3   │ 17-0149 │ 2/17/2017 │ DateReported │ 49     │ Female  │ White   │\n",
       "│ 4   │ 15-0365 │ 7/17/2015 │ DateReported │ 42     │ Male    │ White   │"
      ]
     },
     "execution_count": 65,
     "metadata": {},
     "output_type": "execute_result"
    }
   ],
   "source": [
    "using Query\n",
    "groupby(Filtered_DataFrame, :DateType)"
   ]
  },
  {
   "cell_type": "code",
   "execution_count": 105,
   "metadata": {},
   "outputs": [
    {
     "name": "stderr",
     "output_type": "stream",
     "text": [
      "┌ Warning: Implicit broadcasting to a new column in DataFrame assignment is deprecated.Use `df[!, col_ind] .= v`  when `df` has some columns\n",
      "│   caller = top-level scope at In[105]:1\n",
      "└ @ Core In[105]:1\n"
     ]
    },
    {
     "data": {
      "text/plain": [
       "1"
      ]
     },
     "execution_count": 105,
     "metadata": {},
     "output_type": "execute_result"
    }
   ],
   "source": [
    "Filtered_DataFrame[:B] = 1"
   ]
  },
  {
   "cell_type": "code",
   "execution_count": 106,
   "metadata": {},
   "outputs": [
    {
     "data": {
      "text/html": [
       "<table class=\"data-frame\"><thead><tr><th></th><th>Sex</th><th>Gender_Count</th></tr><tr><th></th><th>String⍰</th><th>Int64</th></tr></thead><tbody><p>2 rows × 2 columns</p><tr><th>1</th><td>Female</td><td>2</td></tr><tr><th>2</th><td>Male</td><td>4</td></tr></tbody></table>"
      ],
      "text/latex": [
       "\\begin{tabular}{r|cc}\n",
       "\t& Sex & Gender\\_Count\\\\\n",
       "\t\\hline\n",
       "\t& String⍰ & Int64\\\\\n",
       "\t\\hline\n",
       "\t1 & Female & 2 \\\\\n",
       "\t2 & Male & 4 \\\\\n",
       "\\end{tabular}\n"
      ],
      "text/plain": [
       "2×2 DataFrame\n",
       "│ Row │ Sex     │ Gender_Count │\n",
       "│     │ \u001b[90mString⍰\u001b[39m │ \u001b[90mInt64\u001b[39m        │\n",
       "├─────┼─────────┼──────────────┤\n",
       "│ 1   │ Female  │ 2            │\n",
       "│ 2   │ Male    │ 4            │"
      ]
     },
     "execution_count": 106,
     "metadata": {},
     "output_type": "execute_result"
    }
   ],
   "source": [
    "# grouping the data on the basis of 'DateType' column value, sum the 'COUNT' column  value and also skip missing value. \n",
    "using Query\n",
    "using DataFrames\n",
    "using Statistics\n",
    "\n",
    "Dataframe = by(Filtered_DataFrame, :Sex) do group\n",
    "    #DataFrame(count = count(skipmissing(group[!,:Sex])))\n",
    "    DataFrame(Gender_Count = sum(group[!,:B]))\n",
    "end\n",
    "Dataframe"
   ]
  },
  {
   "cell_type": "code",
   "execution_count": 107,
   "metadata": {},
   "outputs": [
    {
     "name": "stdout",
     "output_type": "stream",
     "text": [
      "\u001b[32m\u001b[1m Resolving\u001b[22m\u001b[39m package versions...\n",
      "\u001b[32m\u001b[1m  Updating\u001b[22m\u001b[39m `C:\\Users\\Sid\\.julia\\environments\\v1.1\\Project.toml`\n",
      "\u001b[90m [no changes]\u001b[39m\n",
      "\u001b[32m\u001b[1m  Updating\u001b[22m\u001b[39m `C:\\Users\\Sid\\.julia\\environments\\v1.1\\Manifest.toml`\n",
      "\u001b[90m [no changes]\u001b[39m\n"
     ]
    }
   ],
   "source": [
    "# loading 'Dates' package\n",
    "Pkg.add(\"Dates\")"
   ]
  },
  {
   "cell_type": "code",
   "execution_count": 108,
   "metadata": {},
   "outputs": [],
   "source": [
    "# using Dates package to fetching the year from DATE column and then using vlpot to plot the dataframe\n",
    "using Dates\n",
    "# Pkg.add(\"ggplot2\")\n",
    "# using ggplot2\n",
    "Data_DrugAccident_YearWise = copy(Data_DrugAccident_joined)\n",
    "Data_DrugAccident_YearWise[!,:Date] = SubString.(string.(Date.(Data_DrugAccident_joined[!,:Date],DateFormat(\"mm/dd/yyyy\"))),1,4);\n",
    "#Data_DrugAccident_YearWise |> describe\n",
    "# Data_DrugAccident_YearWise |> @vlplot(:bar,x=:Date,y=:ID)"
   ]
  },
  {
   "cell_type": "code",
   "execution_count": 109,
   "metadata": {},
   "outputs": [
    {
     "data": {
      "text/html": [
       "<table class=\"data-frame\"><thead><tr><th></th><th>ID</th><th>Date</th><th>DateType</th><th>Age</th><th>Sex</th><th>Race</th><th>ResidenceCity</th></tr><tr><th></th><th>String</th><th>SubStrin…</th><th>String⍰</th><th>Int64⍰</th><th>String⍰</th><th>String⍰</th><th>String⍰</th></tr></thead><tbody><p>4,877 rows × 47 columns (omitted printing of 40 columns)</p><tr><th>1</th><td>13-0102</td><td>2013</td><td>DateofDeath</td><td>48</td><td>Male</td><td>Black</td><td>NORWALK</td></tr><tr><th>2</th><td>16-0165</td><td>2016</td><td>DateofDeath</td><td>30</td><td>Female</td><td>White</td><td>SANDY HOOK</td></tr><tr><th>3</th><td>16-0208</td><td>2016</td><td>DateofDeath</td><td>23</td><td>Male</td><td>White</td><td>RYE</td></tr><tr><th>4</th><td>13-0052</td><td>2013</td><td>DateofDeath</td><td>22</td><td>Male</td><td>Asian, Other</td><td>FLUSHING</td></tr><tr><th>5</th><td>14-0277</td><td>2014</td><td>DateofDeath</td><td>23</td><td>Male</td><td>White</td><td>BRISTOL</td></tr><tr><th>6</th><td>12-0205</td><td>2012</td><td>DateofDeath</td><td>21</td><td>Female</td><td>White</td><td>WEST HARTFORD</td></tr><tr><th>7</th><td>13-0404</td><td>2013</td><td>DateofDeath</td><td>40</td><td>Female</td><td>White</td><td>HAMDEN</td></tr><tr><th>8</th><td>12-0107</td><td>2012</td><td>DateofDeath</td><td>40</td><td>Male</td><td>White</td><td>EAST HARTFORD</td></tr><tr><th>9</th><td>13-0161</td><td>2013</td><td>DateofDeath</td><td>50</td><td>Male</td><td>White</td><td>MONTVILLE</td></tr><tr><th>10</th><td>15-0232</td><td>2015</td><td>DateReported</td><td>50</td><td>Male</td><td>White</td><td>DANBURY</td></tr><tr><th>11</th><td>16-0028</td><td>2016</td><td>DateofDeath</td><td>29</td><td>Male</td><td>Black</td><td>NEW HAVEN</td></tr><tr><th>12</th><td>13-0279</td><td>2013</td><td>DateofDeath</td><td>45</td><td>Male</td><td>White</td><td>HARTFORD</td></tr><tr><th>13</th><td>14-0042</td><td>2014</td><td>DateofDeath</td><td>29</td><td>Female</td><td>White</td><td>CANTERBURY</td></tr><tr><th>14</th><td>12-0060</td><td>2012</td><td>DateofDeath</td><td>42</td><td>Male</td><td>White</td><td>WALLINGFORD</td></tr><tr><th>15</th><td>16-0065</td><td>2016</td><td>DateofDeath</td><td>54</td><td>Male</td><td>White</td><td>MIDDLETOWN</td></tr><tr><th>16</th><td>16-0889</td><td>2016</td><td>DateofDeath</td><td>32</td><td>Male</td><td>White</td><td>WINDHAM</td></tr><tr><th>17</th><td>14-0474</td><td>2014</td><td>DateofDeath</td><td>47</td><td>Male</td><td>White</td><td>BRIDGEPORT</td></tr><tr><th>18</th><td>15-0263</td><td>2015</td><td>DateReported</td><td>39</td><td>Female</td><td>White</td><td>ANSONIA</td></tr><tr><th>19</th><td>14-0188</td><td>2014</td><td>DateofDeath</td><td>27</td><td>Male</td><td>missing</td><td>HAMDEN</td></tr><tr><th>20</th><td>16-0688</td><td>2016</td><td>DateofDeath</td><td>34</td><td>Male</td><td>White</td><td>COS COB</td></tr><tr><th>21</th><td>16-0495</td><td>2016</td><td>DateofDeath</td><td>27</td><td>Female</td><td>White</td><td>STRATFORD</td></tr><tr><th>22</th><td>17-0817</td><td>2017</td><td>DateReported</td><td>25</td><td>Male</td><td>White</td><td>MERIDEN</td></tr><tr><th>23</th><td>18-0095</td><td>2018</td><td>DateReported</td><td>51</td><td>Male</td><td>White</td><td>HARTFORD</td></tr><tr><th>24</th><td>15-0182</td><td>2015</td><td>DateReported</td><td>23</td><td>Male</td><td>White</td><td>DANBURY</td></tr><tr><th>25</th><td>15-0098</td><td>2015</td><td>DateReported</td><td>35</td><td>Male</td><td>White</td><td>NEW BRITAIN</td></tr><tr><th>26</th><td>18-0285</td><td>2018</td><td>DateReported</td><td>25</td><td>Male</td><td>Hispanic, White</td><td>HARRISBURG</td></tr><tr><th>27</th><td>16-0316</td><td>2016</td><td>DateofDeath</td><td>43</td><td>Male</td><td>White</td><td>MELROSE</td></tr><tr><th>28</th><td>13-0441</td><td>2013</td><td>DateofDeath</td><td>48</td><td>Male</td><td>White</td><td>NORTH SALEM</td></tr><tr><th>29</th><td>18-0468</td><td>2018</td><td>DateReported</td><td>40</td><td>Female</td><td>White</td><td>TORRINGTON</td></tr><tr><th>30</th><td>18-0355</td><td>2018</td><td>DateReported</td><td>49</td><td>Female</td><td>White</td><td>SOUTHBURY</td></tr><tr><th>&vellip;</th><td>&vellip;</td><td>&vellip;</td><td>&vellip;</td><td>&vellip;</td><td>&vellip;</td><td>&vellip;</td><td>&vellip;</td></tr></tbody></table>"
      ],
      "text/latex": [
       "\\begin{tabular}{r|cccccccc}\n",
       "\t& ID & Date & DateType & Age & Sex & Race & ResidenceCity & \\\\\n",
       "\t\\hline\n",
       "\t& String & SubStrin… & String⍰ & Int64⍰ & String⍰ & String⍰ & String⍰ & \\\\\n",
       "\t\\hline\n",
       "\t1 & 13-0102 & 2013 & DateofDeath & 48 & Male & Black & NORWALK & $\\dots$ \\\\\n",
       "\t2 & 16-0165 & 2016 & DateofDeath & 30 & Female & White & SANDY HOOK & $\\dots$ \\\\\n",
       "\t3 & 16-0208 & 2016 & DateofDeath & 23 & Male & White & RYE & $\\dots$ \\\\\n",
       "\t4 & 13-0052 & 2013 & DateofDeath & 22 & Male & Asian, Other & FLUSHING & $\\dots$ \\\\\n",
       "\t5 & 14-0277 & 2014 & DateofDeath & 23 & Male & White & BRISTOL & $\\dots$ \\\\\n",
       "\t6 & 12-0205 & 2012 & DateofDeath & 21 & Female & White & WEST HARTFORD & $\\dots$ \\\\\n",
       "\t7 & 13-0404 & 2013 & DateofDeath & 40 & Female & White & HAMDEN & $\\dots$ \\\\\n",
       "\t8 & 12-0107 & 2012 & DateofDeath & 40 & Male & White & EAST HARTFORD & $\\dots$ \\\\\n",
       "\t9 & 13-0161 & 2013 & DateofDeath & 50 & Male & White & MONTVILLE & $\\dots$ \\\\\n",
       "\t10 & 15-0232 & 2015 & DateReported & 50 & Male & White & DANBURY & $\\dots$ \\\\\n",
       "\t11 & 16-0028 & 2016 & DateofDeath & 29 & Male & Black & NEW HAVEN & $\\dots$ \\\\\n",
       "\t12 & 13-0279 & 2013 & DateofDeath & 45 & Male & White & HARTFORD & $\\dots$ \\\\\n",
       "\t13 & 14-0042 & 2014 & DateofDeath & 29 & Female & White & CANTERBURY & $\\dots$ \\\\\n",
       "\t14 & 12-0060 & 2012 & DateofDeath & 42 & Male & White & WALLINGFORD & $\\dots$ \\\\\n",
       "\t15 & 16-0065 & 2016 & DateofDeath & 54 & Male & White & MIDDLETOWN & $\\dots$ \\\\\n",
       "\t16 & 16-0889 & 2016 & DateofDeath & 32 & Male & White & WINDHAM & $\\dots$ \\\\\n",
       "\t17 & 14-0474 & 2014 & DateofDeath & 47 & Male & White & BRIDGEPORT & $\\dots$ \\\\\n",
       "\t18 & 15-0263 & 2015 & DateReported & 39 & Female & White & ANSONIA & $\\dots$ \\\\\n",
       "\t19 & 14-0188 & 2014 & DateofDeath & 27 & Male &  & HAMDEN & $\\dots$ \\\\\n",
       "\t20 & 16-0688 & 2016 & DateofDeath & 34 & Male & White & COS COB & $\\dots$ \\\\\n",
       "\t21 & 16-0495 & 2016 & DateofDeath & 27 & Female & White & STRATFORD & $\\dots$ \\\\\n",
       "\t22 & 17-0817 & 2017 & DateReported & 25 & Male & White & MERIDEN & $\\dots$ \\\\\n",
       "\t23 & 18-0095 & 2018 & DateReported & 51 & Male & White & HARTFORD & $\\dots$ \\\\\n",
       "\t24 & 15-0182 & 2015 & DateReported & 23 & Male & White & DANBURY & $\\dots$ \\\\\n",
       "\t25 & 15-0098 & 2015 & DateReported & 35 & Male & White & NEW BRITAIN & $\\dots$ \\\\\n",
       "\t26 & 18-0285 & 2018 & DateReported & 25 & Male & Hispanic, White & HARRISBURG & $\\dots$ \\\\\n",
       "\t27 & 16-0316 & 2016 & DateofDeath & 43 & Male & White & MELROSE & $\\dots$ \\\\\n",
       "\t28 & 13-0441 & 2013 & DateofDeath & 48 & Male & White & NORTH SALEM & $\\dots$ \\\\\n",
       "\t29 & 18-0468 & 2018 & DateReported & 40 & Female & White & TORRINGTON & $\\dots$ \\\\\n",
       "\t30 & 18-0355 & 2018 & DateReported & 49 & Female & White & SOUTHBURY & $\\dots$ \\\\\n",
       "\t$\\dots$ & $\\dots$ & $\\dots$ & $\\dots$ & $\\dots$ & $\\dots$ & $\\dots$ & $\\dots$ &  \\\\\n",
       "\\end{tabular}\n"
      ],
      "text/plain": [
       "4877×47 DataFrame. Omitted printing of 41 columns\n",
       "│ Row  │ ID      │ Date      │ DateType     │ Age    │ Sex     │ Race         │\n",
       "│      │ \u001b[90mString\u001b[39m  │ \u001b[90mSubStrin…\u001b[39m │ \u001b[90mString⍰\u001b[39m      │ \u001b[90mInt64⍰\u001b[39m │ \u001b[90mString⍰\u001b[39m │ \u001b[90mString⍰\u001b[39m      │\n",
       "├──────┼─────────┼───────────┼──────────────┼────────┼─────────┼──────────────┤\n",
       "│ 1    │ 13-0102 │ 2013      │ DateofDeath  │ 48     │ Male    │ Black        │\n",
       "│ 2    │ 16-0165 │ 2016      │ DateofDeath  │ 30     │ Female  │ White        │\n",
       "│ 3    │ 16-0208 │ 2016      │ DateofDeath  │ 23     │ Male    │ White        │\n",
       "│ 4    │ 13-0052 │ 2013      │ DateofDeath  │ 22     │ Male    │ Asian, Other │\n",
       "│ 5    │ 14-0277 │ 2014      │ DateofDeath  │ 23     │ Male    │ White        │\n",
       "│ 6    │ 12-0205 │ 2012      │ DateofDeath  │ 21     │ Female  │ White        │\n",
       "│ 7    │ 13-0404 │ 2013      │ DateofDeath  │ 40     │ Female  │ White        │\n",
       "│ 8    │ 12-0107 │ 2012      │ DateofDeath  │ 40     │ Male    │ White        │\n",
       "│ 9    │ 13-0161 │ 2013      │ DateofDeath  │ 50     │ Male    │ White        │\n",
       "│ 10   │ 15-0232 │ 2015      │ DateReported │ 50     │ Male    │ White        │\n",
       "⋮\n",
       "│ 4867 │ 12-0091 │ 2012      │ DateofDeath  │ 16     │ Male    │ White        │\n",
       "│ 4868 │ 18-0206 │ 2018      │ DateReported │ 37     │ Male    │ White        │\n",
       "│ 4869 │ 16-0520 │ 2016      │ DateofDeath  │ 54     │ Female  │ White        │\n",
       "│ 4870 │ 17-0947 │ 2017      │ DateReported │ 28     │ Female  │ White        │\n",
       "│ 4871 │ 14-0166 │ 2014      │ DateofDeath  │ 56     │ Male    │ White        │\n",
       "│ 4872 │ 15-0013 │ 2015      │ DateReported │ 45     │ Female  │ White        │\n",
       "│ 4873 │ 15-0466 │ 2015      │ DateReported │ 43     │ Male    │ White        │\n",
       "│ 4874 │ 17-0618 │ 2017      │ DateReported │ 21     │ Male    │ White        │\n",
       "│ 4875 │ 18-0646 │ 2018      │ DateofDeath  │ 30     │ Male    │ White        │\n",
       "│ 4876 │ 14-0124 │ 2014      │ DateofDeath  │ 33     │ Male    │ White        │\n",
       "│ 4877 │ 16-0637 │ 2016      │ DateofDeath  │ 33     │ Male    │ White        │"
      ]
     },
     "execution_count": 109,
     "metadata": {},
     "output_type": "execute_result"
    }
   ],
   "source": [
    "Data_DrugAccident_YearWise"
   ]
  },
  {
   "cell_type": "code",
   "execution_count": 110,
   "metadata": {},
   "outputs": [
    {
     "name": "stderr",
     "output_type": "stream",
     "text": [
      "┌ Warning: Implicit broadcasting to a new column in DataFrame assignment is deprecated.Use `df[!, col_ind] .= v`  when `df` has some columns\n",
      "│   caller = top-level scope at In[110]:1\n",
      "└ @ Core In[110]:1\n"
     ]
    },
    {
     "data": {
      "text/plain": [
       "1"
      ]
     },
     "execution_count": 110,
     "metadata": {},
     "output_type": "execute_result"
    }
   ],
   "source": [
    "Data_DrugAccident_YearWise[:B] = 1"
   ]
  },
  {
   "cell_type": "code",
   "execution_count": 111,
   "metadata": {},
   "outputs": [
    {
     "data": {
      "text/html": [
       "<table class=\"data-frame\"><thead><tr><th></th><th>Date</th><th>Count</th></tr><tr><th></th><th>SubStrin…</th><th>Int64</th></tr></thead><tbody><p>7 rows × 2 columns</p><tr><th>1</th><td>2013</td><td>470</td></tr><tr><th>2</th><td>2016</td><td>881</td></tr><tr><th>3</th><td>2014</td><td>532</td></tr><tr><th>4</th><td>2012</td><td>345</td></tr><tr><th>5</th><td>2015</td><td>692</td></tr><tr><th>6</th><td>2017</td><td>977</td></tr><tr><th>7</th><td>2018</td><td>980</td></tr></tbody></table>"
      ],
      "text/latex": [
       "\\begin{tabular}{r|cc}\n",
       "\t& Date & Count\\\\\n",
       "\t\\hline\n",
       "\t& SubStrin… & Int64\\\\\n",
       "\t\\hline\n",
       "\t1 & 2013 & 470 \\\\\n",
       "\t2 & 2016 & 881 \\\\\n",
       "\t3 & 2014 & 532 \\\\\n",
       "\t4 & 2012 & 345 \\\\\n",
       "\t5 & 2015 & 692 \\\\\n",
       "\t6 & 2017 & 977 \\\\\n",
       "\t7 & 2018 & 980 \\\\\n",
       "\\end{tabular}\n"
      ],
      "text/plain": [
       "7×2 DataFrame\n",
       "│ Row │ Date      │ Count │\n",
       "│     │ \u001b[90mSubStrin…\u001b[39m │ \u001b[90mInt64\u001b[39m │\n",
       "├─────┼───────────┼───────┤\n",
       "│ 1   │ 2013      │ 470   │\n",
       "│ 2   │ 2016      │ 881   │\n",
       "│ 3   │ 2014      │ 532   │\n",
       "│ 4   │ 2012      │ 345   │\n",
       "│ 5   │ 2015      │ 692   │\n",
       "│ 6   │ 2017      │ 977   │\n",
       "│ 7   │ 2018      │ 980   │"
      ]
     },
     "execution_count": 111,
     "metadata": {},
     "output_type": "execute_result"
    }
   ],
   "source": [
    "using Query\n",
    "using DataFrames\n",
    "using Statistics\n",
    "\n",
    "Dataframe = by(Data_DrugAccident_YearWise, :Date) do group\n",
    "    #DataFrame(count = count(skipmissing(group[!,:Sex])))\n",
    "    DataFrame(Count = sum(group[!,:B]))\n",
    "end\n",
    "Dataframe"
   ]
  },
  {
   "cell_type": "code",
   "execution_count": 113,
   "metadata": {},
   "outputs": [
    {
     "data": {
      "application/vnd.vegalite.v3+json": {
       "data": {
        "values": [
         {
          "Count": 470,
          "Date": "2013"
         },
         {
          "Count": 881,
          "Date": "2016"
         },
         {
          "Count": 532,
          "Date": "2014"
         },
         {
          "Count": 345,
          "Date": "2012"
         },
         {
          "Count": 692,
          "Date": "2015"
         },
         {
          "Count": 977,
          "Date": "2017"
         },
         {
          "Count": 980,
          "Date": "2018"
         }
        ]
       },
       "encoding": {
        "x": {
         "field": "Date",
         "type": "nominal"
        },
        "y": {
         "field": "Count",
         "type": "quantitative"
        }
       },
       "height": 200,
       "mark": "bar",
       "width": 200
      },
      "image/png": "[encoded data removed]",
      "image/svg+xml": [
       "<svg class=\"marks\" width=\"255\" height=\"257\" viewBox=\"0 0 255 257\" version=\"1.1\" xmlns=\"http://www.w3.org/2000/svg\" xmlns:xlink=\"http://www.w3.org/1999/xlink\"><g transform=\"translate(50,10)\"><g class=\"mark-group role-frame root\"><g transform=\"translate(0,0)\"><path class=\"background\" d=\"M0.5,0.5h200v200h-200Z\" style=\"fill: none; stroke: #ddd;\"></path><g><g class=\"mark-group role-axis\"><g transform=\"translate(0.5,0.5)\"><path class=\"background\" d=\"M0,0h0v0h0Z\" style=\"pointer-events: none; fill: none;\"></path><g><g class=\"mark-rule role-axis-grid\" style=\"pointer-events: none;\"><line transform=\"translate(0,200)\" x2=\"200\" y2=\"0\" style=\"fill: none; stroke: #ddd; stroke-width: 1; opacity: 1;\"></line><line transform=\"translate(0,160)\" x2=\"200\" y2=\"0\" style=\"fill: none; stroke: #ddd; stroke-width: 1; opacity: 1;\"></line><line transform=\"translate(0,120)\" x2=\"200\" y2=\"0\" style=\"fill: none; stroke: #ddd; stroke-width: 1; opacity: 1;\"></line><line transform=\"translate(0,80)\" x2=\"200\" y2=\"0\" style=\"fill: none; stroke: #ddd; stroke-width: 1; opacity: 1;\"></line><line transform=\"translate(0,40)\" x2=\"200\" y2=\"0\" style=\"fill: none; stroke: #ddd; stroke-width: 1; opacity: 1;\"></line><line transform=\"translate(0,0)\" x2=\"200\" y2=\"0\" style=\"fill: none; stroke: #ddd; stroke-width: 1; opacity: 1;\"></line></g></g></g></g><g class=\"mark-rect role-mark marks\"><path d=\"M29.99999999999999,106h25.714285714285715v94h-25.714285714285715Z\" style=\"fill: #4c78a8;\"></path><path d=\"M115.71428571428571,23.80000000000001h25.714285714285715v176.2h-25.714285714285715Z\" style=\"fill: #4c78a8;\"></path><path d=\"M58.57142857142856,93.6h25.714285714285715v106.4h-25.714285714285715Z\" style=\"fill: #4c78a8;\"></path><path d=\"M1.4285714285714164,131h25.714285714285715v69h-25.714285714285715Z\" style=\"fill: #4c78a8;\"></path><path d=\"M87.14285714285714,61.60000000000002h25.714285714285715v138.39999999999998h-25.714285714285715Z\" style=\"fill: #4c78a8;\"></path><path d=\"M144.28571428571428,4.599999999999994h25.714285714285715v195.4h-25.714285714285715Z\" style=\"fill: #4c78a8;\"></path><path d=\"M172.85714285714286,4h25.714285714285715v196h-25.714285714285715Z\" style=\"fill: #4c78a8;\"></path></g><g class=\"mark-group role-axis\"><g transform=\"translate(0.5,200.5)\"><path class=\"background\" d=\"M0,0h0v0h0Z\" style=\"pointer-events: none; fill: none;\"></path><g><g class=\"mark-rule role-axis-tick\" style=\"pointer-events: none;\"><line transform=\"translate(13,0)\" x2=\"0\" y2=\"5\" style=\"fill: none; stroke: #888; stroke-width: 1; opacity: 1;\"></line><line transform=\"translate(42,0)\" x2=\"0\" y2=\"5\" style=\"fill: none; stroke: #888; stroke-width: 1; opacity: 1;\"></line><line transform=\"translate(70,0)\" x2=\"0\" y2=\"5\" style=\"fill: none; stroke: #888; stroke-width: 1; opacity: 1;\"></line><line transform=\"translate(99,0)\" x2=\"0\" y2=\"5\" style=\"fill: none; stroke: #888; stroke-width: 1; opacity: 1;\"></line><line transform=\"translate(128,0)\" x2=\"0\" y2=\"5\" style=\"fill: none; stroke: #888; stroke-width: 1; opacity: 1;\"></line><line transform=\"translate(156,0)\" x2=\"0\" y2=\"5\" style=\"fill: none; stroke: #888; stroke-width: 1; opacity: 1;\"></line><line transform=\"translate(185,0)\" x2=\"0\" y2=\"5\" style=\"fill: none; stroke: #888; stroke-width: 1; opacity: 1;\"></line></g><g class=\"mark-text role-axis-label\" style=\"pointer-events: none;\"><text text-anchor=\"end\" transform=\"translate(13.285714285714274,7) rotate(270) translate(0,3)\" style=\"font-family: sans-serif; font-size: 10px; fill: #000; opacity: 1;\">2012</text><text text-anchor=\"end\" transform=\"translate(41.85714285714285,7) rotate(270) translate(0,3)\" style=\"font-family: sans-serif; font-size: 10px; fill: #000; opacity: 1;\">2013</text><text text-anchor=\"end\" transform=\"translate(70.42857142857142,7) rotate(270) translate(0,3)\" style=\"font-family: sans-serif; font-size: 10px; fill: #000; opacity: 1;\">2014</text><text text-anchor=\"end\" transform=\"translate(99,7) rotate(270) translate(0,3)\" style=\"font-family: sans-serif; font-size: 10px; fill: #000; opacity: 1;\">2015</text><text text-anchor=\"end\" transform=\"translate(127.57142857142856,7) rotate(270) translate(0,3)\" style=\"font-family: sans-serif; font-size: 10px; fill: #000; opacity: 1;\">2016</text><text text-anchor=\"end\" transform=\"translate(156.14285714285714,7) rotate(270) translate(0,3)\" style=\"font-family: sans-serif; font-size: 10px; fill: #000; opacity: 1;\">2017</text><text text-anchor=\"end\" transform=\"translate(184.71428571428572,7) rotate(270) translate(0,3)\" style=\"font-family: sans-serif; font-size: 10px; fill: #000; opacity: 1;\">2018</text></g><g class=\"mark-rule role-axis-domain\" style=\"pointer-events: none;\"><line transform=\"translate(0,0)\" x2=\"200\" y2=\"0\" style=\"fill: none; stroke: #888; stroke-width: 1; opacity: 1;\"></line></g><g class=\"mark-text role-axis-title\" style=\"pointer-events: none;\"><text text-anchor=\"middle\" transform=\"translate(100,40)\" style=\"font-family: sans-serif; font-size: 11px; font-weight: bold; fill: #000; opacity: 1;\">Date</text></g></g></g></g><g class=\"mark-group role-axis\"><g transform=\"translate(0.5,0.5)\"><path class=\"background\" d=\"M0,0h0v0h0Z\" style=\"pointer-events: none; fill: none;\"></path><g><g class=\"mark-rule role-axis-tick\" style=\"pointer-events: none;\"><line transform=\"translate(0,200)\" x2=\"-5\" y2=\"0\" style=\"fill: none; stroke: #888; stroke-width: 1; opacity: 1;\"></line><line transform=\"translate(0,160)\" x2=\"-5\" y2=\"0\" style=\"fill: none; stroke: #888; stroke-width: 1; opacity: 1;\"></line><line transform=\"translate(0,120)\" x2=\"-5\" y2=\"0\" style=\"fill: none; stroke: #888; stroke-width: 1; opacity: 1;\"></line><line transform=\"translate(0,80)\" x2=\"-5\" y2=\"0\" style=\"fill: none; stroke: #888; stroke-width: 1; opacity: 1;\"></line><line transform=\"translate(0,40)\" x2=\"-5\" y2=\"0\" style=\"fill: none; stroke: #888; stroke-width: 1; opacity: 1;\"></line><line transform=\"translate(0,0)\" x2=\"-5\" y2=\"0\" style=\"fill: none; stroke: #888; stroke-width: 1; opacity: 1;\"></line></g><g class=\"mark-text role-axis-label\" style=\"pointer-events: none;\"><text text-anchor=\"end\" transform=\"translate(-7,203)\" style=\"font-family: sans-serif; font-size: 10px; fill: #000; opacity: 1;\">0</text><text text-anchor=\"end\" transform=\"translate(-7,163)\" style=\"font-family: sans-serif; font-size: 10px; fill: #000; opacity: 1;\">200</text><text text-anchor=\"end\" transform=\"translate(-7,123)\" style=\"font-family: sans-serif; font-size: 10px; fill: #000; opacity: 1;\">400</text><text text-anchor=\"end\" transform=\"translate(-7,83)\" style=\"font-family: sans-serif; font-size: 10px; fill: #000; opacity: 1;\">600</text><text text-anchor=\"end\" transform=\"translate(-7,43)\" style=\"font-family: sans-serif; font-size: 10px; fill: #000; opacity: 1;\">800</text><text text-anchor=\"end\" transform=\"translate(-7,3)\" style=\"font-family: sans-serif; font-size: 10px; fill: #000; opacity: 1;\">1,000</text></g><g class=\"mark-rule role-axis-domain\" style=\"pointer-events: none;\"><line transform=\"translate(0,200)\" x2=\"0\" y2=\"-200\" style=\"fill: none; stroke: #888; stroke-width: 1; opacity: 1;\"></line></g><g class=\"mark-text role-axis-title\" style=\"pointer-events: none;\"><text text-anchor=\"middle\" transform=\"translate(-34,100) rotate(-90) translate(0,-2)\" style=\"font-family: sans-serif; font-size: 11px; font-weight: bold; fill: #000; opacity: 1;\">Count</text></g></g></g></g></g></g></g></g></svg>"
      ],
      "text/plain": [
       "VegaLite.VLSpec{:plot}"
      ]
     },
     "execution_count": 113,
     "metadata": {},
     "output_type": "execute_result"
    }
   ],
   "source": [
    "Dataframe |>\n",
    "@vlplot(\n",
    "    :bar,\n",
    "    x=:Date,\n",
    "    y=:Count,\n",
    "    width=200,\n",
    "    height=200\n",
    ")"
   ]
  },
  {
   "cell_type": "code",
   "execution_count": 114,
   "metadata": {},
   "outputs": [
    {
     "data": {
      "text/html": [
       "<table class=\"data-frame\"><thead><tr><th></th><th>ID</th><th>Date</th><th>DateType</th><th>Age</th><th>Sex</th><th>Race</th><th>ResidenceCity</th></tr><tr><th></th><th>String</th><th>SubStrin…</th><th>String⍰</th><th>Int64⍰</th><th>String⍰</th><th>String⍰</th><th>String⍰</th></tr></thead><tbody><p>1,417 rows × 48 columns (omitted printing of 41 columns)</p><tr><th>1</th><td>13-0102</td><td>2013</td><td>DateofDeath</td><td>48</td><td>Male</td><td>Black</td><td>NORWALK</td></tr><tr><th>2</th><td>16-0165</td><td>2016</td><td>DateofDeath</td><td>30</td><td>Female</td><td>White</td><td>SANDY HOOK</td></tr><tr><th>3</th><td>13-0404</td><td>2013</td><td>DateofDeath</td><td>40</td><td>Female</td><td>White</td><td>HAMDEN</td></tr><tr><th>4</th><td>17-0817</td><td>2017</td><td>DateReported</td><td>25</td><td>Male</td><td>White</td><td>MERIDEN</td></tr><tr><th>5</th><td>16-0316</td><td>2016</td><td>DateofDeath</td><td>43</td><td>Male</td><td>White</td><td>MELROSE</td></tr><tr><th>6</th><td>18-0468</td><td>2018</td><td>DateReported</td><td>40</td><td>Female</td><td>White</td><td>TORRINGTON</td></tr><tr><th>7</th><td>18-0355</td><td>2018</td><td>DateReported</td><td>49</td><td>Female</td><td>White</td><td>SOUTHBURY</td></tr><tr><th>8</th><td>17-0907</td><td>2017</td><td>DateReported</td><td>40</td><td>Male</td><td>Black</td><td>NEW HAVEN</td></tr><tr><th>9</th><td>15-0687</td><td>2015</td><td>DateReported</td><td>56</td><td>Male</td><td>Black</td><td>WATERBURY</td></tr><tr><th>10</th><td>13-0263</td><td>2013</td><td>DateofDeath</td><td>35</td><td>Female</td><td>White</td><td>BRISTOL</td></tr><tr><th>11</th><td>14-0176</td><td>2014</td><td>DateofDeath</td><td>49</td><td>Female</td><td>Hispanic, White</td><td>STAMFORD</td></tr><tr><th>12</th><td>15-0066</td><td>2015</td><td>DateReported</td><td>49</td><td>Male</td><td>White</td><td>NEW BRITAIN</td></tr><tr><th>13</th><td>16-0753</td><td>2016</td><td>DateofDeath</td><td>43</td><td>Male</td><td>White</td><td>EASTON</td></tr><tr><th>14</th><td>14-0319</td><td>2014</td><td>DateofDeath</td><td>54</td><td>Female</td><td>White</td><td>BRIDGEPORT</td></tr><tr><th>15</th><td>16-0171</td><td>2016</td><td>DateofDeath</td><td>52</td><td>Male</td><td>White</td><td>BROOKFIELD</td></tr><tr><th>16</th><td>15-0415</td><td>2015</td><td>DateReported</td><td>54</td><td>Male</td><td>Hispanic, White</td><td>BRIDGEPORT</td></tr><tr><th>17</th><td>18-0358</td><td>2018</td><td>DateReported</td><td>41</td><td>Male</td><td>White</td><td>DANBURY</td></tr><tr><th>18</th><td>18-0736</td><td>2018</td><td>DateofDeath</td><td>40</td><td>Male</td><td>White</td><td>WATERBURY</td></tr><tr><th>19</th><td>15-0726</td><td>2015</td><td>DateReported</td><td>37</td><td>Female</td><td>White</td><td>EAST HAMPTON</td></tr><tr><th>20</th><td>18-0820</td><td>2018</td><td>DateofDeath</td><td>38</td><td>Male</td><td>White</td><td>WEST HARTFORD</td></tr><tr><th>21</th><td>15-0625</td><td>2015</td><td>DateReported</td><td>42</td><td>Male</td><td>White</td><td>PLYMOUTH</td></tr><tr><th>22</th><td>15-0665</td><td>2015</td><td>DateReported</td><td>51</td><td>Male</td><td>White</td><td>STAMFORD</td></tr><tr><th>23</th><td>17-1004</td><td>2017</td><td>DateReported</td><td>50</td><td>Male</td><td>White</td><td>CHAPLIN</td></tr><tr><th>24</th><td>15-0363</td><td>2015</td><td>DateReported</td><td>59</td><td>Male</td><td>White</td><td>TORRINGTON</td></tr><tr><th>25</th><td>15-0589</td><td>2015</td><td>DateReported</td><td>25</td><td>Female</td><td>Black</td><td>WATERBURY</td></tr><tr><th>26</th><td>17-0874</td><td>2017</td><td>DateReported</td><td>26</td><td>Male</td><td>White</td><td>MERIDEN</td></tr><tr><th>27</th><td>17-0745</td><td>2017</td><td>DateReported</td><td>30</td><td>Female</td><td>White</td><td>NEWTOWN</td></tr><tr><th>28</th><td>14-0060</td><td>2014</td><td>DateofDeath</td><td>43</td><td>Female</td><td>White</td><td>PLANTSVILLE</td></tr><tr><th>29</th><td>18-0197</td><td>2018</td><td>DateReported</td><td>57</td><td>Male</td><td>White</td><td>SOUTH WINDSOR</td></tr><tr><th>30</th><td>17-0646</td><td>2017</td><td>DateReported</td><td>51</td><td>Male</td><td>Hispanic, White</td><td>WATERBURY</td></tr><tr><th>&vellip;</th><td>&vellip;</td><td>&vellip;</td><td>&vellip;</td><td>&vellip;</td><td>&vellip;</td><td>&vellip;</td><td>&vellip;</td></tr></tbody></table>"
      ],
      "text/latex": [
       "\\begin{tabular}{r|cccccccc}\n",
       "\t& ID & Date & DateType & Age & Sex & Race & ResidenceCity & \\\\\n",
       "\t\\hline\n",
       "\t& String & SubStrin… & String⍰ & Int64⍰ & String⍰ & String⍰ & String⍰ & \\\\\n",
       "\t\\hline\n",
       "\t1 & 13-0102 & 2013 & DateofDeath & 48 & Male & Black & NORWALK & $\\dots$ \\\\\n",
       "\t2 & 16-0165 & 2016 & DateofDeath & 30 & Female & White & SANDY HOOK & $\\dots$ \\\\\n",
       "\t3 & 13-0404 & 2013 & DateofDeath & 40 & Female & White & HAMDEN & $\\dots$ \\\\\n",
       "\t4 & 17-0817 & 2017 & DateReported & 25 & Male & White & MERIDEN & $\\dots$ \\\\\n",
       "\t5 & 16-0316 & 2016 & DateofDeath & 43 & Male & White & MELROSE & $\\dots$ \\\\\n",
       "\t6 & 18-0468 & 2018 & DateReported & 40 & Female & White & TORRINGTON & $\\dots$ \\\\\n",
       "\t7 & 18-0355 & 2018 & DateReported & 49 & Female & White & SOUTHBURY & $\\dots$ \\\\\n",
       "\t8 & 17-0907 & 2017 & DateReported & 40 & Male & Black & NEW HAVEN & $\\dots$ \\\\\n",
       "\t9 & 15-0687 & 2015 & DateReported & 56 & Male & Black & WATERBURY & $\\dots$ \\\\\n",
       "\t10 & 13-0263 & 2013 & DateofDeath & 35 & Female & White & BRISTOL & $\\dots$ \\\\\n",
       "\t11 & 14-0176 & 2014 & DateofDeath & 49 & Female & Hispanic, White & STAMFORD & $\\dots$ \\\\\n",
       "\t12 & 15-0066 & 2015 & DateReported & 49 & Male & White & NEW BRITAIN & $\\dots$ \\\\\n",
       "\t13 & 16-0753 & 2016 & DateofDeath & 43 & Male & White & EASTON & $\\dots$ \\\\\n",
       "\t14 & 14-0319 & 2014 & DateofDeath & 54 & Female & White & BRIDGEPORT & $\\dots$ \\\\\n",
       "\t15 & 16-0171 & 2016 & DateofDeath & 52 & Male & White & BROOKFIELD & $\\dots$ \\\\\n",
       "\t16 & 15-0415 & 2015 & DateReported & 54 & Male & Hispanic, White & BRIDGEPORT & $\\dots$ \\\\\n",
       "\t17 & 18-0358 & 2018 & DateReported & 41 & Male & White & DANBURY & $\\dots$ \\\\\n",
       "\t18 & 18-0736 & 2018 & DateofDeath & 40 & Male & White & WATERBURY & $\\dots$ \\\\\n",
       "\t19 & 15-0726 & 2015 & DateReported & 37 & Female & White & EAST HAMPTON & $\\dots$ \\\\\n",
       "\t20 & 18-0820 & 2018 & DateofDeath & 38 & Male & White & WEST HARTFORD & $\\dots$ \\\\\n",
       "\t21 & 15-0625 & 2015 & DateReported & 42 & Male & White & PLYMOUTH & $\\dots$ \\\\\n",
       "\t22 & 15-0665 & 2015 & DateReported & 51 & Male & White & STAMFORD & $\\dots$ \\\\\n",
       "\t23 & 17-1004 & 2017 & DateReported & 50 & Male & White & CHAPLIN & $\\dots$ \\\\\n",
       "\t24 & 15-0363 & 2015 & DateReported & 59 & Male & White & TORRINGTON & $\\dots$ \\\\\n",
       "\t25 & 15-0589 & 2015 & DateReported & 25 & Female & Black & WATERBURY & $\\dots$ \\\\\n",
       "\t26 & 17-0874 & 2017 & DateReported & 26 & Male & White & MERIDEN & $\\dots$ \\\\\n",
       "\t27 & 17-0745 & 2017 & DateReported & 30 & Female & White & NEWTOWN & $\\dots$ \\\\\n",
       "\t28 & 14-0060 & 2014 & DateofDeath & 43 & Female & White & PLANTSVILLE & $\\dots$ \\\\\n",
       "\t29 & 18-0197 & 2018 & DateReported & 57 & Male & White & SOUTH WINDSOR & $\\dots$ \\\\\n",
       "\t30 & 17-0646 & 2017 & DateReported & 51 & Male & Hispanic, White & WATERBURY & $\\dots$ \\\\\n",
       "\t$\\dots$ & $\\dots$ & $\\dots$ & $\\dots$ & $\\dots$ & $\\dots$ & $\\dots$ & $\\dots$ &  \\\\\n",
       "\\end{tabular}\n"
      ],
      "text/plain": [
       "1417×48 DataFrame. Omitted printing of 43 columns\n",
       "│ Row  │ ID      │ Date      │ DateType     │ Age    │ Sex     │\n",
       "│      │ \u001b[90mString\u001b[39m  │ \u001b[90mSubStrin…\u001b[39m │ \u001b[90mString⍰\u001b[39m      │ \u001b[90mInt64⍰\u001b[39m │ \u001b[90mString⍰\u001b[39m │\n",
       "├──────┼─────────┼───────────┼──────────────┼────────┼─────────┤\n",
       "│ 1    │ 13-0102 │ 2013      │ DateofDeath  │ 48     │ Male    │\n",
       "│ 2    │ 16-0165 │ 2016      │ DateofDeath  │ 30     │ Female  │\n",
       "│ 3    │ 13-0404 │ 2013      │ DateofDeath  │ 40     │ Female  │\n",
       "│ 4    │ 17-0817 │ 2017      │ DateReported │ 25     │ Male    │\n",
       "│ 5    │ 16-0316 │ 2016      │ DateofDeath  │ 43     │ Male    │\n",
       "│ 6    │ 18-0468 │ 2018      │ DateReported │ 40     │ Female  │\n",
       "│ 7    │ 18-0355 │ 2018      │ DateReported │ 49     │ Female  │\n",
       "│ 8    │ 17-0907 │ 2017      │ DateReported │ 40     │ Male    │\n",
       "│ 9    │ 15-0687 │ 2015      │ DateReported │ 56     │ Male    │\n",
       "│ 10   │ 13-0263 │ 2013      │ DateofDeath  │ 35     │ Female  │\n",
       "⋮\n",
       "│ 1407 │ 16-0914 │ 2016      │ DateofDeath  │ 22     │ Male    │\n",
       "│ 1408 │ 12-0352 │ 2012      │ DateofDeath  │ 47     │ Male    │\n",
       "│ 1409 │ 18-0853 │ 2018      │ DateofDeath  │ 31     │ Male    │\n",
       "│ 1410 │ 13-0341 │ 2013      │ DateofDeath  │ 51     │ Male    │\n",
       "│ 1411 │ 12-0222 │ 2012      │ DateofDeath  │ 71     │ Male    │\n",
       "│ 1412 │ 16-0847 │ 2016      │ DateofDeath  │ 35     │ Male    │\n",
       "│ 1413 │ 17-0525 │ 2017      │ DateReported │ 33     │ Female  │\n",
       "│ 1414 │ 18-0206 │ 2018      │ DateReported │ 37     │ Male    │\n",
       "│ 1415 │ 16-0520 │ 2016      │ DateofDeath  │ 54     │ Female  │\n",
       "│ 1416 │ 17-0947 │ 2017      │ DateReported │ 28     │ Female  │\n",
       "│ 1417 │ 15-0013 │ 2015      │ DateReported │ 45     │ Female  │"
      ]
     },
     "execution_count": 114,
     "metadata": {},
     "output_type": "execute_result"
    }
   ],
   "source": [
    "using Query\n",
    "Filtered_DataFrame_DrugType = Data_DrugAccident_YearWise |> # filter dataset on the basis of cocaine drug type\n",
    "  @filter(_.Cocaine == \"Y\")|>\n",
    "  DataFrame"
   ]
  },
  {
   "cell_type": "code",
   "execution_count": 115,
   "metadata": {},
   "outputs": [
    {
     "data": {
      "text/html": [
       "<table class=\"data-frame\"><thead><tr><th></th><th>ID</th><th>Date</th><th>DateType</th><th>Age</th><th>Sex</th><th>Race</th><th>ResidenceCity</th></tr><tr><th></th><th>String</th><th>SubStrin…</th><th>String⍰</th><th>Int64⍰</th><th>String⍰</th><th>String⍰</th><th>String⍰</th></tr></thead><tbody><p>2,710 rows × 48 columns (omitted printing of 41 columns)</p><tr><th>1</th><td>13-0102</td><td>2013</td><td>DateofDeath</td><td>48</td><td>Male</td><td>Black</td><td>NORWALK</td></tr><tr><th>2</th><td>16-0165</td><td>2016</td><td>DateofDeath</td><td>30</td><td>Female</td><td>White</td><td>SANDY HOOK</td></tr><tr><th>3</th><td>16-0208</td><td>2016</td><td>DateofDeath</td><td>23</td><td>Male</td><td>White</td><td>RYE</td></tr><tr><th>4</th><td>13-0052</td><td>2013</td><td>DateofDeath</td><td>22</td><td>Male</td><td>Asian, Other</td><td>FLUSHING</td></tr><tr><th>5</th><td>14-0277</td><td>2014</td><td>DateofDeath</td><td>23</td><td>Male</td><td>White</td><td>BRISTOL</td></tr><tr><th>6</th><td>12-0205</td><td>2012</td><td>DateofDeath</td><td>21</td><td>Female</td><td>White</td><td>WEST HARTFORD</td></tr><tr><th>7</th><td>13-0404</td><td>2013</td><td>DateofDeath</td><td>40</td><td>Female</td><td>White</td><td>HAMDEN</td></tr><tr><th>8</th><td>12-0107</td><td>2012</td><td>DateofDeath</td><td>40</td><td>Male</td><td>White</td><td>EAST HARTFORD</td></tr><tr><th>9</th><td>13-0161</td><td>2013</td><td>DateofDeath</td><td>50</td><td>Male</td><td>White</td><td>MONTVILLE</td></tr><tr><th>10</th><td>16-0028</td><td>2016</td><td>DateofDeath</td><td>29</td><td>Male</td><td>Black</td><td>NEW HAVEN</td></tr><tr><th>11</th><td>13-0279</td><td>2013</td><td>DateofDeath</td><td>45</td><td>Male</td><td>White</td><td>HARTFORD</td></tr><tr><th>12</th><td>14-0042</td><td>2014</td><td>DateofDeath</td><td>29</td><td>Female</td><td>White</td><td>CANTERBURY</td></tr><tr><th>13</th><td>12-0060</td><td>2012</td><td>DateofDeath</td><td>42</td><td>Male</td><td>White</td><td>WALLINGFORD</td></tr><tr><th>14</th><td>16-0065</td><td>2016</td><td>DateofDeath</td><td>54</td><td>Male</td><td>White</td><td>MIDDLETOWN</td></tr><tr><th>15</th><td>16-0889</td><td>2016</td><td>DateofDeath</td><td>32</td><td>Male</td><td>White</td><td>WINDHAM</td></tr><tr><th>16</th><td>14-0474</td><td>2014</td><td>DateofDeath</td><td>47</td><td>Male</td><td>White</td><td>BRIDGEPORT</td></tr><tr><th>17</th><td>14-0188</td><td>2014</td><td>DateofDeath</td><td>27</td><td>Male</td><td>missing</td><td>HAMDEN</td></tr><tr><th>18</th><td>16-0688</td><td>2016</td><td>DateofDeath</td><td>34</td><td>Male</td><td>White</td><td>COS COB</td></tr><tr><th>19</th><td>16-0495</td><td>2016</td><td>DateofDeath</td><td>27</td><td>Female</td><td>White</td><td>STRATFORD</td></tr><tr><th>20</th><td>16-0316</td><td>2016</td><td>DateofDeath</td><td>43</td><td>Male</td><td>White</td><td>MELROSE</td></tr><tr><th>21</th><td>13-0441</td><td>2013</td><td>DateofDeath</td><td>48</td><td>Male</td><td>White</td><td>NORTH SALEM</td></tr><tr><th>22</th><td>14-0490</td><td>2014</td><td>DateofDeath</td><td>25</td><td>Male</td><td>White</td><td>DARIEN</td></tr><tr><th>23</th><td>13-0263</td><td>2013</td><td>DateofDeath</td><td>35</td><td>Female</td><td>White</td><td>BRISTOL</td></tr><tr><th>24</th><td>16-0477</td><td>2016</td><td>DateofDeath</td><td>23</td><td>Male</td><td>White</td><td>SOMERS</td></tr><tr><th>25</th><td>14-0176</td><td>2014</td><td>DateofDeath</td><td>49</td><td>Female</td><td>Hispanic, White</td><td>STAMFORD</td></tr><tr><th>26</th><td>12-0353</td><td>2012</td><td>DateofDeath</td><td>50</td><td>Male</td><td>Hispanic, White</td><td>WINDHAM</td></tr><tr><th>27</th><td>18-1002</td><td>2018</td><td>DateofDeath</td><td>49</td><td>Male</td><td>White</td><td>WATERTOWN</td></tr><tr><th>28</th><td>16-0610</td><td>2016</td><td>DateofDeath</td><td>30</td><td>Male</td><td>White</td><td>BALTIC</td></tr><tr><th>29</th><td>14-0522</td><td>2014</td><td>DateofDeath</td><td>67</td><td>Female</td><td>White</td><td>LITCHFIELD</td></tr><tr><th>30</th><td>18-0747</td><td>2018</td><td>DateofDeath</td><td>36</td><td>Male</td><td>Hispanic, White</td><td>MIDDLETOWN</td></tr><tr><th>&vellip;</th><td>&vellip;</td><td>&vellip;</td><td>&vellip;</td><td>&vellip;</td><td>&vellip;</td><td>&vellip;</td><td>&vellip;</td></tr></tbody></table>"
      ],
      "text/latex": [
       "\\begin{tabular}{r|cccccccc}\n",
       "\t& ID & Date & DateType & Age & Sex & Race & ResidenceCity & \\\\\n",
       "\t\\hline\n",
       "\t& String & SubStrin… & String⍰ & Int64⍰ & String⍰ & String⍰ & String⍰ & \\\\\n",
       "\t\\hline\n",
       "\t1 & 13-0102 & 2013 & DateofDeath & 48 & Male & Black & NORWALK & $\\dots$ \\\\\n",
       "\t2 & 16-0165 & 2016 & DateofDeath & 30 & Female & White & SANDY HOOK & $\\dots$ \\\\\n",
       "\t3 & 16-0208 & 2016 & DateofDeath & 23 & Male & White & RYE & $\\dots$ \\\\\n",
       "\t4 & 13-0052 & 2013 & DateofDeath & 22 & Male & Asian, Other & FLUSHING & $\\dots$ \\\\\n",
       "\t5 & 14-0277 & 2014 & DateofDeath & 23 & Male & White & BRISTOL & $\\dots$ \\\\\n",
       "\t6 & 12-0205 & 2012 & DateofDeath & 21 & Female & White & WEST HARTFORD & $\\dots$ \\\\\n",
       "\t7 & 13-0404 & 2013 & DateofDeath & 40 & Female & White & HAMDEN & $\\dots$ \\\\\n",
       "\t8 & 12-0107 & 2012 & DateofDeath & 40 & Male & White & EAST HARTFORD & $\\dots$ \\\\\n",
       "\t9 & 13-0161 & 2013 & DateofDeath & 50 & Male & White & MONTVILLE & $\\dots$ \\\\\n",
       "\t10 & 16-0028 & 2016 & DateofDeath & 29 & Male & Black & NEW HAVEN & $\\dots$ \\\\\n",
       "\t11 & 13-0279 & 2013 & DateofDeath & 45 & Male & White & HARTFORD & $\\dots$ \\\\\n",
       "\t12 & 14-0042 & 2014 & DateofDeath & 29 & Female & White & CANTERBURY & $\\dots$ \\\\\n",
       "\t13 & 12-0060 & 2012 & DateofDeath & 42 & Male & White & WALLINGFORD & $\\dots$ \\\\\n",
       "\t14 & 16-0065 & 2016 & DateofDeath & 54 & Male & White & MIDDLETOWN & $\\dots$ \\\\\n",
       "\t15 & 16-0889 & 2016 & DateofDeath & 32 & Male & White & WINDHAM & $\\dots$ \\\\\n",
       "\t16 & 14-0474 & 2014 & DateofDeath & 47 & Male & White & BRIDGEPORT & $\\dots$ \\\\\n",
       "\t17 & 14-0188 & 2014 & DateofDeath & 27 & Male &  & HAMDEN & $\\dots$ \\\\\n",
       "\t18 & 16-0688 & 2016 & DateofDeath & 34 & Male & White & COS COB & $\\dots$ \\\\\n",
       "\t19 & 16-0495 & 2016 & DateofDeath & 27 & Female & White & STRATFORD & $\\dots$ \\\\\n",
       "\t20 & 16-0316 & 2016 & DateofDeath & 43 & Male & White & MELROSE & $\\dots$ \\\\\n",
       "\t21 & 13-0441 & 2013 & DateofDeath & 48 & Male & White & NORTH SALEM & $\\dots$ \\\\\n",
       "\t22 & 14-0490 & 2014 & DateofDeath & 25 & Male & White & DARIEN & $\\dots$ \\\\\n",
       "\t23 & 13-0263 & 2013 & DateofDeath & 35 & Female & White & BRISTOL & $\\dots$ \\\\\n",
       "\t24 & 16-0477 & 2016 & DateofDeath & 23 & Male & White & SOMERS & $\\dots$ \\\\\n",
       "\t25 & 14-0176 & 2014 & DateofDeath & 49 & Female & Hispanic, White & STAMFORD & $\\dots$ \\\\\n",
       "\t26 & 12-0353 & 2012 & DateofDeath & 50 & Male & Hispanic, White & WINDHAM & $\\dots$ \\\\\n",
       "\t27 & 18-1002 & 2018 & DateofDeath & 49 & Male & White & WATERTOWN & $\\dots$ \\\\\n",
       "\t28 & 16-0610 & 2016 & DateofDeath & 30 & Male & White & BALTIC & $\\dots$ \\\\\n",
       "\t29 & 14-0522 & 2014 & DateofDeath & 67 & Female & White & LITCHFIELD & $\\dots$ \\\\\n",
       "\t30 & 18-0747 & 2018 & DateofDeath & 36 & Male & Hispanic, White & MIDDLETOWN & $\\dots$ \\\\\n",
       "\t$\\dots$ & $\\dots$ & $\\dots$ & $\\dots$ & $\\dots$ & $\\dots$ & $\\dots$ & $\\dots$ &  \\\\\n",
       "\\end{tabular}\n"
      ],
      "text/plain": [
       "2710×48 DataFrame. Omitted printing of 43 columns\n",
       "│ Row  │ ID      │ Date      │ DateType    │ Age    │ Sex     │\n",
       "│      │ \u001b[90mString\u001b[39m  │ \u001b[90mSubStrin…\u001b[39m │ \u001b[90mString⍰\u001b[39m     │ \u001b[90mInt64⍰\u001b[39m │ \u001b[90mString⍰\u001b[39m │\n",
       "├──────┼─────────┼───────────┼─────────────┼────────┼─────────┤\n",
       "│ 1    │ 13-0102 │ 2013      │ DateofDeath │ 48     │ Male    │\n",
       "│ 2    │ 16-0165 │ 2016      │ DateofDeath │ 30     │ Female  │\n",
       "│ 3    │ 16-0208 │ 2016      │ DateofDeath │ 23     │ Male    │\n",
       "│ 4    │ 13-0052 │ 2013      │ DateofDeath │ 22     │ Male    │\n",
       "│ 5    │ 14-0277 │ 2014      │ DateofDeath │ 23     │ Male    │\n",
       "│ 6    │ 12-0205 │ 2012      │ DateofDeath │ 21     │ Female  │\n",
       "│ 7    │ 13-0404 │ 2013      │ DateofDeath │ 40     │ Female  │\n",
       "│ 8    │ 12-0107 │ 2012      │ DateofDeath │ 40     │ Male    │\n",
       "│ 9    │ 13-0161 │ 2013      │ DateofDeath │ 50     │ Male    │\n",
       "│ 10   │ 16-0028 │ 2016      │ DateofDeath │ 29     │ Male    │\n",
       "⋮\n",
       "│ 2700 │ 12-0222 │ 2012      │ DateofDeath │ 71     │ Male    │\n",
       "│ 2701 │ 16-0847 │ 2016      │ DateofDeath │ 35     │ Male    │\n",
       "│ 2702 │ 16-0902 │ 2016      │ DateofDeath │ 35     │ Male    │\n",
       "│ 2703 │ 14-0030 │ 2014      │ DateofDeath │ 23     │ Female  │\n",
       "│ 2704 │ 16-0043 │ 2016      │ DateofDeath │ 29     │ Male    │\n",
       "│ 2705 │ 12-0091 │ 2012      │ DateofDeath │ 16     │ Male    │\n",
       "│ 2706 │ 16-0520 │ 2016      │ DateofDeath │ 54     │ Female  │\n",
       "│ 2707 │ 14-0166 │ 2014      │ DateofDeath │ 56     │ Male    │\n",
       "│ 2708 │ 18-0646 │ 2018      │ DateofDeath │ 30     │ Male    │\n",
       "│ 2709 │ 14-0124 │ 2014      │ DateofDeath │ 33     │ Male    │\n",
       "│ 2710 │ 16-0637 │ 2016      │ DateofDeath │ 33     │ Male    │"
      ]
     },
     "execution_count": 115,
     "metadata": {},
     "output_type": "execute_result"
    }
   ],
   "source": [
    "using Query\n",
    "Filtered_DataFrame_Cocaine = Data_DrugAccident_YearWise |> # filter dataset on the basis of death happened due to drug\n",
    "  @filter(_.DateType == \"DateofDeath\")|>\n",
    "  DataFrame"
   ]
  },
  {
   "cell_type": "code",
   "execution_count": 84,
   "metadata": {},
   "outputs": [
    {
     "data": {
      "text/html": [
       "<table class=\"data-frame\"><thead><tr><th></th><th>Date</th><th>Count</th></tr><tr><th></th><th>SubStrin…</th><th>Int64</th></tr></thead><tbody><p>5 rows × 2 columns</p><tr><th>1</th><td>2013</td><td>470</td></tr><tr><th>2</th><td>2016</td><td>881</td></tr><tr><th>3</th><td>2014</td><td>532</td></tr><tr><th>4</th><td>2012</td><td>345</td></tr><tr><th>5</th><td>2018</td><td>482</td></tr></tbody></table>"
      ],
      "text/latex": [
       "\\begin{tabular}{r|cc}\n",
       "\t& Date & Count\\\\\n",
       "\t\\hline\n",
       "\t& SubStrin… & Int64\\\\\n",
       "\t\\hline\n",
       "\t1 & 2013 & 470 \\\\\n",
       "\t2 & 2016 & 881 \\\\\n",
       "\t3 & 2014 & 532 \\\\\n",
       "\t4 & 2012 & 345 \\\\\n",
       "\t5 & 2018 & 482 \\\\\n",
       "\\end{tabular}\n"
      ],
      "text/plain": [
       "5×2 DataFrame\n",
       "│ Row │ Date      │ Count │\n",
       "│     │ \u001b[90mSubStrin…\u001b[39m │ \u001b[90mInt64\u001b[39m │\n",
       "├─────┼───────────┼───────┤\n",
       "│ 1   │ 2013      │ 470   │\n",
       "│ 2   │ 2016      │ 881   │\n",
       "│ 3   │ 2014      │ 532   │\n",
       "│ 4   │ 2012      │ 345   │\n",
       "│ 5   │ 2018      │ 482   │"
      ]
     },
     "execution_count": 84,
     "metadata": {},
     "output_type": "execute_result"
    }
   ],
   "source": [
    "using Query\n",
    "using DataFrames\n",
    "using Statistics\n",
    "\n",
    "Dataframe = by(Filtered_DataFrame_Cocaine, :Date) do group # count the number of death due to consumption of cocaine\n",
    "    #DataFrame(count = count(skipmissing(group[!,:Sex])))\n",
    "    DataFrame(Count = sum(group[!,:B]))\n",
    "end\n",
    "Dataframe"
   ]
  },
  {
   "cell_type": "code",
   "execution_count": 116,
   "metadata": {},
   "outputs": [
    {
     "data": {
      "application/vnd.vegalite.v3+json": {
       "data": {
        "values": [
         {
          "Count": 470,
          "Date": "2013"
         },
         {
          "Count": 881,
          "Date": "2016"
         },
         {
          "Count": 532,
          "Date": "2014"
         },
         {
          "Count": 345,
          "Date": "2012"
         },
         {
          "Count": 692,
          "Date": "2015"
         },
         {
          "Count": 977,
          "Date": "2017"
         },
         {
          "Count": 980,
          "Date": "2018"
         }
        ]
       },
       "encoding": {
        "x": {
         "field": "Date",
         "type": "nominal"
        },
        "y": {
         "field": "Count",
         "type": "quantitative"
        }
       },
       "height": 500,
       "mark": "bar",
       "width": 500
      },
      "image/png": "[encoded data removed]",
      "image/svg+xml": [
       "<svg class=\"marks\" width=\"555\" height=\"557\" viewBox=\"0 0 555 557\" version=\"1.1\" xmlns=\"http://www.w3.org/2000/svg\" xmlns:xlink=\"http://www.w3.org/1999/xlink\"><g transform=\"translate(50,10)\"><g class=\"mark-group role-frame root\"><g transform=\"translate(0,0)\"><path class=\"background\" d=\"M0.5,0.5h500v500h-500Z\" style=\"fill: none; stroke: #ddd;\"></path><g><g class=\"mark-group role-axis\"><g transform=\"translate(0.5,0.5)\"><path class=\"background\" d=\"M0,0h0v0h0Z\" style=\"pointer-events: none; fill: none;\"></path><g><g class=\"mark-rule role-axis-grid\" style=\"pointer-events: none;\"><line transform=\"translate(0,500)\" x2=\"500\" y2=\"0\" style=\"fill: none; stroke: #ddd; stroke-width: 1; opacity: 1;\"></line><line transform=\"translate(0,450)\" x2=\"500\" y2=\"0\" style=\"fill: none; stroke: #ddd; stroke-width: 1; opacity: 1;\"></line><line transform=\"translate(0,400)\" x2=\"500\" y2=\"0\" style=\"fill: none; stroke: #ddd; stroke-width: 1; opacity: 1;\"></line><line transform=\"translate(0,350)\" x2=\"500\" y2=\"0\" style=\"fill: none; stroke: #ddd; stroke-width: 1; opacity: 1;\"></line><line transform=\"translate(0,300)\" x2=\"500\" y2=\"0\" style=\"fill: none; stroke: #ddd; stroke-width: 1; opacity: 1;\"></line><line transform=\"translate(0,250)\" x2=\"500\" y2=\"0\" style=\"fill: none; stroke: #ddd; stroke-width: 1; opacity: 1;\"></line><line transform=\"translate(0,200)\" x2=\"500\" y2=\"0\" style=\"fill: none; stroke: #ddd; stroke-width: 1; opacity: 1;\"></line><line transform=\"translate(0,150)\" x2=\"500\" y2=\"0\" style=\"fill: none; stroke: #ddd; stroke-width: 1; opacity: 1;\"></line><line transform=\"translate(0,100)\" x2=\"500\" y2=\"0\" style=\"fill: none; stroke: #ddd; stroke-width: 1; opacity: 1;\"></line><line transform=\"translate(0,50)\" x2=\"500\" y2=\"0\" style=\"fill: none; stroke: #ddd; stroke-width: 1; opacity: 1;\"></line><line transform=\"translate(0,0)\" x2=\"500\" y2=\"0\" style=\"fill: none; stroke: #ddd; stroke-width: 1; opacity: 1;\"></line></g></g></g></g><g class=\"mark-rect role-mark marks\"><path d=\"M74.99999999999999,265h64.28571428571429v235h-64.28571428571429Z\" style=\"fill: #4c78a8;\"></path><path d=\"M289.2857142857143,59.5h64.28571428571429v440.5h-64.28571428571429Z\" style=\"fill: #4c78a8;\"></path><path d=\"M146.42857142857142,234h64.28571428571429v266h-64.28571428571429Z\" style=\"fill: #4c78a8;\"></path><path d=\"M3.571428571428555,327.5h64.28571428571429v172.5h-64.28571428571429Z\" style=\"fill: #4c78a8;\"></path><path d=\"M217.85714285714283,154h64.28571428571429v346h-64.28571428571429Z\" style=\"fill: #4c78a8;\"></path><path d=\"M360.7142857142857,11.5h64.28571428571429v488.5h-64.28571428571429Z\" style=\"fill: #4c78a8;\"></path><path d=\"M432.1428571428571,10h64.28571428571429v490h-64.28571428571429Z\" style=\"fill: #4c78a8;\"></path></g><g class=\"mark-group role-axis\"><g transform=\"translate(0.5,500.5)\"><path class=\"background\" d=\"M0,0h0v0h0Z\" style=\"pointer-events: none; fill: none;\"></path><g><g class=\"mark-rule role-axis-tick\" style=\"pointer-events: none;\"><line transform=\"translate(35,0)\" x2=\"0\" y2=\"5\" style=\"fill: none; stroke: #888; stroke-width: 1; opacity: 1;\"></line><line transform=\"translate(106,0)\" x2=\"0\" y2=\"5\" style=\"fill: none; stroke: #888; stroke-width: 1; opacity: 1;\"></line><line transform=\"translate(178,0)\" x2=\"0\" y2=\"5\" style=\"fill: none; stroke: #888; stroke-width: 1; opacity: 1;\"></line><line transform=\"translate(249,0)\" x2=\"0\" y2=\"5\" style=\"fill: none; stroke: #888; stroke-width: 1; opacity: 1;\"></line><line transform=\"translate(320,0)\" x2=\"0\" y2=\"5\" style=\"fill: none; stroke: #888; stroke-width: 1; opacity: 1;\"></line><line transform=\"translate(392,0)\" x2=\"0\" y2=\"5\" style=\"fill: none; stroke: #888; stroke-width: 1; opacity: 1;\"></line><line transform=\"translate(463,0)\" x2=\"0\" y2=\"5\" style=\"fill: none; stroke: #888; stroke-width: 1; opacity: 1;\"></line></g><g class=\"mark-text role-axis-label\" style=\"pointer-events: none;\"><text text-anchor=\"end\" transform=\"translate(34.7142857142857,7) rotate(270) translate(0,3)\" style=\"font-family: sans-serif; font-size: 10px; fill: #000; opacity: 1;\">2012</text><text text-anchor=\"end\" transform=\"translate(106.14285714285714,7) rotate(270) translate(0,3)\" style=\"font-family: sans-serif; font-size: 10px; fill: #000; opacity: 1;\">2013</text><text text-anchor=\"end\" transform=\"translate(177.57142857142856,7) rotate(270) translate(0,3)\" style=\"font-family: sans-serif; font-size: 10px; fill: #000; opacity: 1;\">2014</text><text text-anchor=\"end\" transform=\"translate(248.99999999999997,7) rotate(270) translate(0,3)\" style=\"font-family: sans-serif; font-size: 10px; fill: #000; opacity: 1;\">2015</text><text text-anchor=\"end\" transform=\"translate(320.42857142857144,7) rotate(270) translate(0,3)\" style=\"font-family: sans-serif; font-size: 10px; fill: #000; opacity: 1;\">2016</text><text text-anchor=\"end\" transform=\"translate(391.8571428571429,7) rotate(270) translate(0,3)\" style=\"font-family: sans-serif; font-size: 10px; fill: #000; opacity: 1;\">2017</text><text text-anchor=\"end\" transform=\"translate(463.2857142857143,7) rotate(270) translate(0,3)\" style=\"font-family: sans-serif; font-size: 10px; fill: #000; opacity: 1;\">2018</text></g><g class=\"mark-rule role-axis-domain\" style=\"pointer-events: none;\"><line transform=\"translate(0,0)\" x2=\"500\" y2=\"0\" style=\"fill: none; stroke: #888; stroke-width: 1; opacity: 1;\"></line></g><g class=\"mark-text role-axis-title\" style=\"pointer-events: none;\"><text text-anchor=\"middle\" transform=\"translate(250,40)\" style=\"font-family: sans-serif; font-size: 11px; font-weight: bold; fill: #000; opacity: 1;\">Date</text></g></g></g></g><g class=\"mark-group role-axis\"><g transform=\"translate(0.5,0.5)\"><path class=\"background\" d=\"M0,0h0v0h0Z\" style=\"pointer-events: none; fill: none;\"></path><g><g class=\"mark-rule role-axis-tick\" style=\"pointer-events: none;\"><line transform=\"translate(0,500)\" x2=\"-5\" y2=\"0\" style=\"fill: none; stroke: #888; stroke-width: 1; opacity: 1;\"></line><line transform=\"translate(0,450)\" x2=\"-5\" y2=\"0\" style=\"fill: none; stroke: #888; stroke-width: 1; opacity: 1;\"></line><line transform=\"translate(0,400)\" x2=\"-5\" y2=\"0\" style=\"fill: none; stroke: #888; stroke-width: 1; opacity: 1;\"></line><line transform=\"translate(0,350)\" x2=\"-5\" y2=\"0\" style=\"fill: none; stroke: #888; stroke-width: 1; opacity: 1;\"></line><line transform=\"translate(0,300)\" x2=\"-5\" y2=\"0\" style=\"fill: none; stroke: #888; stroke-width: 1; opacity: 1;\"></line><line transform=\"translate(0,250)\" x2=\"-5\" y2=\"0\" style=\"fill: none; stroke: #888; stroke-width: 1; opacity: 1;\"></line><line transform=\"translate(0,200)\" x2=\"-5\" y2=\"0\" style=\"fill: none; stroke: #888; stroke-width: 1; opacity: 1;\"></line><line transform=\"translate(0,150)\" x2=\"-5\" y2=\"0\" style=\"fill: none; stroke: #888; stroke-width: 1; opacity: 1;\"></line><line transform=\"translate(0,100)\" x2=\"-5\" y2=\"0\" style=\"fill: none; stroke: #888; stroke-width: 1; opacity: 1;\"></line><line transform=\"translate(0,50)\" x2=\"-5\" y2=\"0\" style=\"fill: none; stroke: #888; stroke-width: 1; opacity: 1;\"></line><line transform=\"translate(0,0)\" x2=\"-5\" y2=\"0\" style=\"fill: none; stroke: #888; stroke-width: 1; opacity: 1;\"></line></g><g class=\"mark-text role-axis-label\" style=\"pointer-events: none;\"><text text-anchor=\"end\" transform=\"translate(-7,503)\" style=\"font-family: sans-serif; font-size: 10px; fill: #000; opacity: 1;\">0</text><text text-anchor=\"end\" transform=\"translate(-7,453)\" style=\"font-family: sans-serif; font-size: 10px; fill: #000; opacity: 1;\">100</text><text text-anchor=\"end\" transform=\"translate(-7,403)\" style=\"font-family: sans-serif; font-size: 10px; fill: #000; opacity: 1;\">200</text><text text-anchor=\"end\" transform=\"translate(-7,353)\" style=\"font-family: sans-serif; font-size: 10px; fill: #000; opacity: 1;\">300</text><text text-anchor=\"end\" transform=\"translate(-7,303)\" style=\"font-family: sans-serif; font-size: 10px; fill: #000; opacity: 1;\">400</text><text text-anchor=\"end\" transform=\"translate(-7,253)\" style=\"font-family: sans-serif; font-size: 10px; fill: #000; opacity: 1;\">500</text><text text-anchor=\"end\" transform=\"translate(-7,203)\" style=\"font-family: sans-serif; font-size: 10px; fill: #000; opacity: 1;\">600</text><text text-anchor=\"end\" transform=\"translate(-7,153)\" style=\"font-family: sans-serif; font-size: 10px; fill: #000; opacity: 1;\">700</text><text text-anchor=\"end\" transform=\"translate(-7,103)\" style=\"font-family: sans-serif; font-size: 10px; fill: #000; opacity: 1;\">800</text><text text-anchor=\"end\" transform=\"translate(-7,53)\" style=\"font-family: sans-serif; font-size: 10px; fill: #000; opacity: 1;\">900</text><text text-anchor=\"end\" transform=\"translate(-7,3)\" style=\"font-family: sans-serif; font-size: 10px; fill: #000; opacity: 1;\">1,000</text></g><g class=\"mark-rule role-axis-domain\" style=\"pointer-events: none;\"><line transform=\"translate(0,500)\" x2=\"0\" y2=\"-500\" style=\"fill: none; stroke: #888; stroke-width: 1; opacity: 1;\"></line></g><g class=\"mark-text role-axis-title\" style=\"pointer-events: none;\"><text text-anchor=\"middle\" transform=\"translate(-34,250) rotate(-90) translate(0,-2)\" style=\"font-family: sans-serif; font-size: 11px; font-weight: bold; fill: #000; opacity: 1;\">Count</text></g></g></g></g></g></g></g></g></svg>"
      ],
      "text/plain": [
       "VegaLite.VLSpec{:plot}"
      ]
     },
     "execution_count": 116,
     "metadata": {},
     "output_type": "execute_result"
    }
   ],
   "source": [
    "Dataframe |>\n",
    "@vlplot(\n",
    "    :bar,\n",
    "    x=:Date,\n",
    "    y=:Count,\n",
    "    width=500,\n",
    "    height=500\n",
    ")"
   ]
  },
  {
   "cell_type": "code",
   "execution_count": 95,
   "metadata": {},
   "outputs": [
    {
     "data": {
      "text/html": [
       "<table class=\"data-frame\"><thead><tr><th></th><th>ID</th><th>Date</th><th>DateType</th><th>Age</th><th>Sex</th><th>Race</th><th>ResidenceCity</th></tr><tr><th></th><th>String</th><th>SubStrin…</th><th>String⍰</th><th>Int64⍰</th><th>String⍰</th><th>String⍰</th><th>String⍰</th></tr></thead><tbody><p>1,081 rows × 48 columns (omitted printing of 41 columns)</p><tr><th>1</th><td>16-0165</td><td>2016</td><td>DateofDeath</td><td>30</td><td>Female</td><td>White</td><td>SANDY HOOK</td></tr><tr><th>2</th><td>16-0208</td><td>2016</td><td>DateofDeath</td><td>23</td><td>Male</td><td>White</td><td>RYE</td></tr><tr><th>3</th><td>13-0052</td><td>2013</td><td>DateofDeath</td><td>22</td><td>Male</td><td>Asian, Other</td><td>FLUSHING</td></tr><tr><th>4</th><td>14-0277</td><td>2014</td><td>DateofDeath</td><td>23</td><td>Male</td><td>White</td><td>BRISTOL</td></tr><tr><th>5</th><td>12-0205</td><td>2012</td><td>DateofDeath</td><td>21</td><td>Female</td><td>White</td><td>WEST HARTFORD</td></tr><tr><th>6</th><td>16-0028</td><td>2016</td><td>DateofDeath</td><td>29</td><td>Male</td><td>Black</td><td>NEW HAVEN</td></tr><tr><th>7</th><td>14-0042</td><td>2014</td><td>DateofDeath</td><td>29</td><td>Female</td><td>White</td><td>CANTERBURY</td></tr><tr><th>8</th><td>14-0188</td><td>2014</td><td>DateofDeath</td><td>27</td><td>Male</td><td>missing</td><td>HAMDEN</td></tr><tr><th>9</th><td>16-0495</td><td>2016</td><td>DateofDeath</td><td>27</td><td>Female</td><td>White</td><td>STRATFORD</td></tr><tr><th>10</th><td>17-0817</td><td>2017</td><td>DateReported</td><td>25</td><td>Male</td><td>White</td><td>MERIDEN</td></tr><tr><th>11</th><td>15-0182</td><td>2015</td><td>DateReported</td><td>23</td><td>Male</td><td>White</td><td>DANBURY</td></tr><tr><th>12</th><td>18-0285</td><td>2018</td><td>DateReported</td><td>25</td><td>Male</td><td>Hispanic, White</td><td>HARRISBURG</td></tr><tr><th>13</th><td>14-0490</td><td>2014</td><td>DateofDeath</td><td>25</td><td>Male</td><td>White</td><td>DARIEN</td></tr><tr><th>14</th><td>15-0007</td><td>2015</td><td>DateReported</td><td>28</td><td>Male</td><td>White</td><td>MILFORD</td></tr><tr><th>15</th><td>16-0477</td><td>2016</td><td>DateofDeath</td><td>23</td><td>Male</td><td>White</td><td>SOMERS</td></tr><tr><th>16</th><td>16-0610</td><td>2016</td><td>DateofDeath</td><td>30</td><td>Male</td><td>White</td><td>BALTIC</td></tr><tr><th>17</th><td>15-0420</td><td>2015</td><td>DateReported</td><td>25</td><td>Male</td><td>White</td><td>DERBY</td></tr><tr><th>18</th><td>16-0160</td><td>2016</td><td>DateofDeath</td><td>23</td><td>Male</td><td>White</td><td>NEW LONDON</td></tr><tr><th>19</th><td>18-0371</td><td>2018</td><td>DateReported</td><td>29</td><td>Male</td><td>White</td><td>HARTFORD</td></tr><tr><th>20</th><td>12-0092</td><td>2012</td><td>DateofDeath</td><td>24</td><td>Female</td><td>White</td><td>NEW LONDON</td></tr><tr><th>21</th><td>16-0200</td><td>2016</td><td>DateofDeath</td><td>26</td><td>Male</td><td>White</td><td>OXFORD</td></tr><tr><th>22</th><td>16-0875</td><td>2016</td><td>DateofDeath</td><td>25</td><td>Female</td><td>White</td><td>ELLINGTON</td></tr><tr><th>23</th><td>15-0589</td><td>2015</td><td>DateReported</td><td>25</td><td>Female</td><td>Black</td><td>WATERBURY</td></tr><tr><th>24</th><td>17-0874</td><td>2017</td><td>DateReported</td><td>26</td><td>Male</td><td>White</td><td>MERIDEN</td></tr><tr><th>25</th><td>17-0745</td><td>2017</td><td>DateReported</td><td>30</td><td>Female</td><td>White</td><td>NEWTOWN</td></tr><tr><th>26</th><td>14-0447</td><td>2014</td><td>DateofDeath</td><td>30</td><td>Female</td><td>White</td><td>EAST HARTFORD</td></tr><tr><th>27</th><td>15-0324</td><td>2015</td><td>DateReported</td><td>26</td><td>Male</td><td>Asian, Other</td><td>NEW MILFORD</td></tr><tr><th>28</th><td>16-0742</td><td>2016</td><td>DateofDeath</td><td>23</td><td>Male</td><td>White</td><td>STONINGTON</td></tr><tr><th>29</th><td>13-0480</td><td>2013</td><td>DateofDeath</td><td>26</td><td>Female</td><td>White</td><td>GROTON</td></tr><tr><th>30</th><td>16-0327</td><td>2016</td><td>DateofDeath</td><td>26</td><td>Male</td><td>White</td><td>OLD SAYBROOK</td></tr><tr><th>&vellip;</th><td>&vellip;</td><td>&vellip;</td><td>&vellip;</td><td>&vellip;</td><td>&vellip;</td><td>&vellip;</td><td>&vellip;</td></tr></tbody></table>"
      ],
      "text/latex": [
       "\\begin{tabular}{r|cccccccc}\n",
       "\t& ID & Date & DateType & Age & Sex & Race & ResidenceCity & \\\\\n",
       "\t\\hline\n",
       "\t& String & SubStrin… & String⍰ & Int64⍰ & String⍰ & String⍰ & String⍰ & \\\\\n",
       "\t\\hline\n",
       "\t1 & 16-0165 & 2016 & DateofDeath & 30 & Female & White & SANDY HOOK & $\\dots$ \\\\\n",
       "\t2 & 16-0208 & 2016 & DateofDeath & 23 & Male & White & RYE & $\\dots$ \\\\\n",
       "\t3 & 13-0052 & 2013 & DateofDeath & 22 & Male & Asian, Other & FLUSHING & $\\dots$ \\\\\n",
       "\t4 & 14-0277 & 2014 & DateofDeath & 23 & Male & White & BRISTOL & $\\dots$ \\\\\n",
       "\t5 & 12-0205 & 2012 & DateofDeath & 21 & Female & White & WEST HARTFORD & $\\dots$ \\\\\n",
       "\t6 & 16-0028 & 2016 & DateofDeath & 29 & Male & Black & NEW HAVEN & $\\dots$ \\\\\n",
       "\t7 & 14-0042 & 2014 & DateofDeath & 29 & Female & White & CANTERBURY & $\\dots$ \\\\\n",
       "\t8 & 14-0188 & 2014 & DateofDeath & 27 & Male &  & HAMDEN & $\\dots$ \\\\\n",
       "\t9 & 16-0495 & 2016 & DateofDeath & 27 & Female & White & STRATFORD & $\\dots$ \\\\\n",
       "\t10 & 17-0817 & 2017 & DateReported & 25 & Male & White & MERIDEN & $\\dots$ \\\\\n",
       "\t11 & 15-0182 & 2015 & DateReported & 23 & Male & White & DANBURY & $\\dots$ \\\\\n",
       "\t12 & 18-0285 & 2018 & DateReported & 25 & Male & Hispanic, White & HARRISBURG & $\\dots$ \\\\\n",
       "\t13 & 14-0490 & 2014 & DateofDeath & 25 & Male & White & DARIEN & $\\dots$ \\\\\n",
       "\t14 & 15-0007 & 2015 & DateReported & 28 & Male & White & MILFORD & $\\dots$ \\\\\n",
       "\t15 & 16-0477 & 2016 & DateofDeath & 23 & Male & White & SOMERS & $\\dots$ \\\\\n",
       "\t16 & 16-0610 & 2016 & DateofDeath & 30 & Male & White & BALTIC & $\\dots$ \\\\\n",
       "\t17 & 15-0420 & 2015 & DateReported & 25 & Male & White & DERBY & $\\dots$ \\\\\n",
       "\t18 & 16-0160 & 2016 & DateofDeath & 23 & Male & White & NEW LONDON & $\\dots$ \\\\\n",
       "\t19 & 18-0371 & 2018 & DateReported & 29 & Male & White & HARTFORD & $\\dots$ \\\\\n",
       "\t20 & 12-0092 & 2012 & DateofDeath & 24 & Female & White & NEW LONDON & $\\dots$ \\\\\n",
       "\t21 & 16-0200 & 2016 & DateofDeath & 26 & Male & White & OXFORD & $\\dots$ \\\\\n",
       "\t22 & 16-0875 & 2016 & DateofDeath & 25 & Female & White & ELLINGTON & $\\dots$ \\\\\n",
       "\t23 & 15-0589 & 2015 & DateReported & 25 & Female & Black & WATERBURY & $\\dots$ \\\\\n",
       "\t24 & 17-0874 & 2017 & DateReported & 26 & Male & White & MERIDEN & $\\dots$ \\\\\n",
       "\t25 & 17-0745 & 2017 & DateReported & 30 & Female & White & NEWTOWN & $\\dots$ \\\\\n",
       "\t26 & 14-0447 & 2014 & DateofDeath & 30 & Female & White & EAST HARTFORD & $\\dots$ \\\\\n",
       "\t27 & 15-0324 & 2015 & DateReported & 26 & Male & Asian, Other & NEW MILFORD & $\\dots$ \\\\\n",
       "\t28 & 16-0742 & 2016 & DateofDeath & 23 & Male & White & STONINGTON & $\\dots$ \\\\\n",
       "\t29 & 13-0480 & 2013 & DateofDeath & 26 & Female & White & GROTON & $\\dots$ \\\\\n",
       "\t30 & 16-0327 & 2016 & DateofDeath & 26 & Male & White & OLD SAYBROOK & $\\dots$ \\\\\n",
       "\t$\\dots$ & $\\dots$ & $\\dots$ & $\\dots$ & $\\dots$ & $\\dots$ & $\\dots$ & $\\dots$ &  \\\\\n",
       "\\end{tabular}\n"
      ],
      "text/plain": [
       "1081×48 DataFrame. Omitted printing of 43 columns\n",
       "│ Row  │ ID      │ Date      │ DateType     │ Age    │ Sex     │\n",
       "│      │ \u001b[90mString\u001b[39m  │ \u001b[90mSubStrin…\u001b[39m │ \u001b[90mString⍰\u001b[39m      │ \u001b[90mInt64⍰\u001b[39m │ \u001b[90mString⍰\u001b[39m │\n",
       "├──────┼─────────┼───────────┼──────────────┼────────┼─────────┤\n",
       "│ 1    │ 16-0165 │ 2016      │ DateofDeath  │ 30     │ Female  │\n",
       "│ 2    │ 16-0208 │ 2016      │ DateofDeath  │ 23     │ Male    │\n",
       "│ 3    │ 13-0052 │ 2013      │ DateofDeath  │ 22     │ Male    │\n",
       "│ 4    │ 14-0277 │ 2014      │ DateofDeath  │ 23     │ Male    │\n",
       "│ 5    │ 12-0205 │ 2012      │ DateofDeath  │ 21     │ Female  │\n",
       "│ 6    │ 16-0028 │ 2016      │ DateofDeath  │ 29     │ Male    │\n",
       "│ 7    │ 14-0042 │ 2014      │ DateofDeath  │ 29     │ Female  │\n",
       "│ 8    │ 14-0188 │ 2014      │ DateofDeath  │ 27     │ Male    │\n",
       "│ 9    │ 16-0495 │ 2016      │ DateofDeath  │ 27     │ Female  │\n",
       "│ 10   │ 17-0817 │ 2017      │ DateReported │ 25     │ Male    │\n",
       "⋮\n",
       "│ 1071 │ 16-0914 │ 2016      │ DateofDeath  │ 22     │ Male    │\n",
       "│ 1072 │ 16-0334 │ 2016      │ DateofDeath  │ 19     │ Female  │\n",
       "│ 1073 │ 17-0668 │ 2017      │ DateReported │ 29     │ Female  │\n",
       "│ 1074 │ 14-0220 │ 2014      │ DateofDeath  │ 26     │ Male    │\n",
       "│ 1075 │ 15-0508 │ 2015      │ DateReported │ 21     │ Male    │\n",
       "│ 1076 │ 14-0030 │ 2014      │ DateofDeath  │ 23     │ Female  │\n",
       "│ 1077 │ 16-0043 │ 2016      │ DateofDeath  │ 29     │ Male    │\n",
       "│ 1078 │ 12-0091 │ 2012      │ DateofDeath  │ 16     │ Male    │\n",
       "│ 1079 │ 17-0947 │ 2017      │ DateReported │ 28     │ Female  │\n",
       "│ 1080 │ 17-0618 │ 2017      │ DateReported │ 21     │ Male    │\n",
       "│ 1081 │ 18-0646 │ 2018      │ DateofDeath  │ 30     │ Male    │"
      ]
     },
     "execution_count": 95,
     "metadata": {},
     "output_type": "execute_result"
    }
   ],
   "source": [
    "using Query\n",
    "Filtered_DataFrame_Age = Data_DrugAccident_YearWise |> # filter the dataset on the basis of Age less than 30\n",
    "  @filter(_.Age <= 30)|>\n",
    "  DataFrame"
   ]
  },
  {
   "cell_type": "code",
   "execution_count": 96,
   "metadata": {},
   "outputs": [
    {
     "data": {
      "text/html": [
       "<table class=\"data-frame\"><thead><tr><th></th><th>Date</th><th>Count</th></tr><tr><th></th><th>SubStrin…</th><th>Int64</th></tr></thead><tbody><p>7 rows × 2 columns</p><tr><th>1</th><td>2016</td><td>191</td></tr><tr><th>2</th><td>2013</td><td>118</td></tr><tr><th>3</th><td>2014</td><td>122</td></tr><tr><th>4</th><td>2012</td><td>86</td></tr><tr><th>5</th><td>2017</td><td>209</td></tr><tr><th>6</th><td>2015</td><td>158</td></tr><tr><th>7</th><td>2018</td><td>197</td></tr></tbody></table>"
      ],
      "text/latex": [
       "\\begin{tabular}{r|cc}\n",
       "\t& Date & Count\\\\\n",
       "\t\\hline\n",
       "\t& SubStrin… & Int64\\\\\n",
       "\t\\hline\n",
       "\t1 & 2016 & 191 \\\\\n",
       "\t2 & 2013 & 118 \\\\\n",
       "\t3 & 2014 & 122 \\\\\n",
       "\t4 & 2012 & 86 \\\\\n",
       "\t5 & 2017 & 209 \\\\\n",
       "\t6 & 2015 & 158 \\\\\n",
       "\t7 & 2018 & 197 \\\\\n",
       "\\end{tabular}\n"
      ],
      "text/plain": [
       "7×2 DataFrame\n",
       "│ Row │ Date      │ Count │\n",
       "│     │ \u001b[90mSubStrin…\u001b[39m │ \u001b[90mInt64\u001b[39m │\n",
       "├─────┼───────────┼───────┤\n",
       "│ 1   │ 2016      │ 191   │\n",
       "│ 2   │ 2013      │ 118   │\n",
       "│ 3   │ 2014      │ 122   │\n",
       "│ 4   │ 2012      │ 86    │\n",
       "│ 5   │ 2017      │ 209   │\n",
       "│ 6   │ 2015      │ 158   │\n",
       "│ 7   │ 2018      │ 197   │"
      ]
     },
     "execution_count": 96,
     "metadata": {},
     "output_type": "execute_result"
    }
   ],
   "source": [
    "using Query\n",
    "using DataFrames\n",
    "using Statistics\n",
    "\n",
    "Dataframe = by(Filtered_DataFrame_Age, :Date) do group\n",
    "    #DataFrame(count = count(skipmissing(group[!,:Sex])))\n",
    "    DataFrame(Count = sum(group[!,:B]))\n",
    "end\n",
    "Dataframe"
   ]
  },
  {
   "cell_type": "code",
   "execution_count": 97,
   "metadata": {},
   "outputs": [
    {
     "name": "stderr",
     "output_type": "stream",
     "text": [
      "WARN Missing type for channel \"color\", using \"nominal\" instead.\n",
      "WARN Missing type for channel \"color\", using \"nominal\" instead.\n"
     ]
    },
    {
     "data": {
      "application/vnd.vegalite.v3+json": {
       "data": {
        "values": [
         {
          "Count": 191,
          "Date": "2016"
         },
         {
          "Count": 118,
          "Date": "2013"
         },
         {
          "Count": 122,
          "Date": "2014"
         },
         {
          "Count": 86,
          "Date": "2012"
         },
         {
          "Count": 209,
          "Date": "2017"
         },
         {
          "Count": 158,
          "Date": "2015"
         },
         {
          "Count": 197,
          "Date": "2018"
         }
        ]
       },
       "encoding": {
        "color": {
         "field": "Origin"
        },
        "x": {
         "field": "Date",
         "type": "nominal"
        },
        "y": {
         "field": "Count",
         "type": "quantitative"
        }
       },
       "height": 500,
       "mark": "line",
       "width": 500
      },
      "image/png": "[encoded data removed]",
      "image/svg+xml": [
       "<svg class=\"marks\" width=\"626\" height=\"557\" viewBox=\"0 0 626 557\" version=\"1.1\" xmlns=\"http://www.w3.org/2000/svg\" xmlns:xlink=\"http://www.w3.org/1999/xlink\"><g transform=\"translate(42,10)\"><g class=\"mark-group role-frame root\"><g transform=\"translate(0,0)\"><path class=\"background\" d=\"M0.5,0.5h500v500h-500Z\" style=\"fill: none; stroke: #ddd;\"></path><g><g class=\"mark-group role-axis\"><g transform=\"translate(0.5,0.5)\"><path class=\"background\" d=\"M0,0h0v0h0Z\" style=\"pointer-events: none; fill: none;\"></path><g><g class=\"mark-rule role-axis-grid\" style=\"pointer-events: none;\"><line transform=\"translate(0,500)\" x2=\"500\" y2=\"0\" style=\"fill: none; stroke: #ddd; stroke-width: 1; opacity: 1;\"></line><line transform=\"translate(0,455)\" x2=\"500\" y2=\"0\" style=\"fill: none; stroke: #ddd; stroke-width: 1; opacity: 1;\"></line><line transform=\"translate(0,409)\" x2=\"500\" y2=\"0\" style=\"fill: none; stroke: #ddd; stroke-width: 1; opacity: 1;\"></line><line transform=\"translate(0,364)\" x2=\"500\" y2=\"0\" style=\"fill: none; stroke: #ddd; stroke-width: 1; opacity: 1;\"></line><line transform=\"translate(0,318)\" x2=\"500\" y2=\"0\" style=\"fill: none; stroke: #ddd; stroke-width: 1; opacity: 1;\"></line><line transform=\"translate(0,273)\" x2=\"500\" y2=\"0\" style=\"fill: none; stroke: #ddd; stroke-width: 1; opacity: 1;\"></line><line transform=\"translate(0,227)\" x2=\"500\" y2=\"0\" style=\"fill: none; stroke: #ddd; stroke-width: 1; opacity: 1;\"></line><line transform=\"translate(0,182)\" x2=\"500\" y2=\"0\" style=\"fill: none; stroke: #ddd; stroke-width: 1; opacity: 1;\"></line><line transform=\"translate(0,136)\" x2=\"500\" y2=\"0\" style=\"fill: none; stroke: #ddd; stroke-width: 1; opacity: 1;\"></line><line transform=\"translate(0,91)\" x2=\"500\" y2=\"0\" style=\"fill: none; stroke: #ddd; stroke-width: 1; opacity: 1;\"></line><line transform=\"translate(0,45)\" x2=\"500\" y2=\"0\" style=\"fill: none; stroke: #ddd; stroke-width: 1; opacity: 1;\"></line><line transform=\"translate(0,0)\" x2=\"500\" y2=\"0\" style=\"fill: none; stroke: #ddd; stroke-width: 1; opacity: 1;\"></line></g></g></g></g><g class=\"mark-group role-scope pathgroup\"><g transform=\"translate(0,0)\"><path class=\"background\" d=\"M0,0h500v500h-500Z\" style=\"fill: none;\"></path><g><g class=\"mark-line role-mark marks\"><path d=\"M464.2857142857143,52.27272727272725L392.8571428571429,25L321.42857142857144,65.90909090909093L250,140.90909090909093L178.57142857142858,222.7272727272727L107.14285714285715,231.8181818181818L35.71428571428572,304.5454545454545\" style=\"fill: none; stroke: #4c78a8; stroke-width: 2;\"></path></g></g></g></g><g class=\"mark-group role-legend\"><g transform=\"translate(518,0)\"><path class=\"background\" d=\"M0,0h61v27h-61Z\" style=\"pointer-events: none; fill: none;\"></path><g><g class=\"mark-group role-legend-entry\"><g transform=\"translate(0,16)\"><path class=\"background\" d=\"M0,0h0v0h0Z\" style=\"pointer-events: none; fill: none;\"></path><g><g class=\"mark-group role-scope\"><g transform=\"translate(0,0)\"><path class=\"background\" d=\"M0,0h61v11h-61Z\" style=\"pointer-events: none; fill: none; opacity: 1;\"></path><g><g class=\"mark-symbol role-legend-symbol\" style=\"pointer-events: none;\"><path transform=\"translate(6,6)\" d=\"M-5,0L5,0\" style=\"fill: none; stroke: #4c78a8; stroke-width: 1.5; opacity: 1;\"></path></g><g class=\"mark-text role-legend-label\" style=\"pointer-events: none;\"><text text-anchor=\"start\" transform=\"translate(16,9)\" style=\"font-family: sans-serif; font-size: 10px; fill: #000; opacity: 1;\">undefined</text></g></g></g></g></g></g></g><g class=\"mark-text role-legend-title\" style=\"pointer-events: none;\"><text text-anchor=\"start\" transform=\"translate(0,9)\" style=\"font-family: sans-serif; font-size: 11px; font-weight: bold; fill: #000; opacity: 1;\">Origin</text></g></g></g></g><g class=\"mark-group role-axis\"><g transform=\"translate(0.5,500.5)\"><path class=\"background\" d=\"M0,0h0v0h0Z\" style=\"pointer-events: none; fill: none;\"></path><g><g class=\"mark-rule role-axis-tick\" style=\"pointer-events: none;\"><line transform=\"translate(36,0)\" x2=\"0\" y2=\"5\" style=\"fill: none; stroke: #888; stroke-width: 1; opacity: 1;\"></line><line transform=\"translate(107,0)\" x2=\"0\" y2=\"5\" style=\"fill: none; stroke: #888; stroke-width: 1; opacity: 1;\"></line><line transform=\"translate(179,0)\" x2=\"0\" y2=\"5\" style=\"fill: none; stroke: #888; stroke-width: 1; opacity: 1;\"></line><line transform=\"translate(250,0)\" x2=\"0\" y2=\"5\" style=\"fill: none; stroke: #888; stroke-width: 1; opacity: 1;\"></line><line transform=\"translate(321,0)\" x2=\"0\" y2=\"5\" style=\"fill: none; stroke: #888; stroke-width: 1; opacity: 1;\"></line><line transform=\"translate(393,0)\" x2=\"0\" y2=\"5\" style=\"fill: none; stroke: #888; stroke-width: 1; opacity: 1;\"></line><line transform=\"translate(464,0)\" x2=\"0\" y2=\"5\" style=\"fill: none; stroke: #888; stroke-width: 1; opacity: 1;\"></line></g><g class=\"mark-text role-axis-label\" style=\"pointer-events: none;\"><text text-anchor=\"end\" transform=\"translate(35.71428571428572,7) rotate(270) translate(0,3)\" style=\"font-family: sans-serif; font-size: 10px; fill: #000; opacity: 1;\">2012</text><text text-anchor=\"end\" transform=\"translate(107.14285714285715,7) rotate(270) translate(0,3)\" style=\"font-family: sans-serif; font-size: 10px; fill: #000; opacity: 1;\">2013</text><text text-anchor=\"end\" transform=\"translate(178.57142857142858,7) rotate(270) translate(0,3)\" style=\"font-family: sans-serif; font-size: 10px; fill: #000; opacity: 1;\">2014</text><text text-anchor=\"end\" transform=\"translate(250,7) rotate(270) translate(0,3)\" style=\"font-family: sans-serif; font-size: 10px; fill: #000; opacity: 1;\">2015</text><text text-anchor=\"end\" transform=\"translate(321.42857142857144,7) rotate(270) translate(0,3)\" style=\"font-family: sans-serif; font-size: 10px; fill: #000; opacity: 1;\">2016</text><text text-anchor=\"end\" transform=\"translate(392.8571428571429,7) rotate(270) translate(0,3)\" style=\"font-family: sans-serif; font-size: 10px; fill: #000; opacity: 1;\">2017</text><text text-anchor=\"end\" transform=\"translate(464.2857142857143,7) rotate(270) translate(0,3)\" style=\"font-family: sans-serif; font-size: 10px; fill: #000; opacity: 1;\">2018</text></g><g class=\"mark-rule role-axis-domain\" style=\"pointer-events: none;\"><line transform=\"translate(0,0)\" x2=\"500\" y2=\"0\" style=\"fill: none; stroke: #888; stroke-width: 1; opacity: 1;\"></line></g><g class=\"mark-text role-axis-title\" style=\"pointer-events: none;\"><text text-anchor=\"middle\" transform=\"translate(250,40)\" style=\"font-family: sans-serif; font-size: 11px; font-weight: bold; fill: #000; opacity: 1;\">Date</text></g></g></g></g><g class=\"mark-group role-axis\"><g transform=\"translate(0.5,0.5)\"><path class=\"background\" d=\"M0,0h0v0h0Z\" style=\"pointer-events: none; fill: none;\"></path><g><g class=\"mark-rule role-axis-tick\" style=\"pointer-events: none;\"><line transform=\"translate(0,500)\" x2=\"-5\" y2=\"0\" style=\"fill: none; stroke: #888; stroke-width: 1; opacity: 1;\"></line><line transform=\"translate(0,455)\" x2=\"-5\" y2=\"0\" style=\"fill: none; stroke: #888; stroke-width: 1; opacity: 1;\"></line><line transform=\"translate(0,409)\" x2=\"-5\" y2=\"0\" style=\"fill: none; stroke: #888; stroke-width: 1; opacity: 1;\"></line><line transform=\"translate(0,364)\" x2=\"-5\" y2=\"0\" style=\"fill: none; stroke: #888; stroke-width: 1; opacity: 1;\"></line><line transform=\"translate(0,318)\" x2=\"-5\" y2=\"0\" style=\"fill: none; stroke: #888; stroke-width: 1; opacity: 1;\"></line><line transform=\"translate(0,273)\" x2=\"-5\" y2=\"0\" style=\"fill: none; stroke: #888; stroke-width: 1; opacity: 1;\"></line><line transform=\"translate(0,227)\" x2=\"-5\" y2=\"0\" style=\"fill: none; stroke: #888; stroke-width: 1; opacity: 1;\"></line><line transform=\"translate(0,182)\" x2=\"-5\" y2=\"0\" style=\"fill: none; stroke: #888; stroke-width: 1; opacity: 1;\"></line><line transform=\"translate(0,136)\" x2=\"-5\" y2=\"0\" style=\"fill: none; stroke: #888; stroke-width: 1; opacity: 1;\"></line><line transform=\"translate(0,91)\" x2=\"-5\" y2=\"0\" style=\"fill: none; stroke: #888; stroke-width: 1; opacity: 1;\"></line><line transform=\"translate(0,45)\" x2=\"-5\" y2=\"0\" style=\"fill: none; stroke: #888; stroke-width: 1; opacity: 1;\"></line><line transform=\"translate(0,0)\" x2=\"-5\" y2=\"0\" style=\"fill: none; stroke: #888; stroke-width: 1; opacity: 1;\"></line></g><g class=\"mark-text role-axis-label\" style=\"pointer-events: none;\"><text text-anchor=\"end\" transform=\"translate(-7,503)\" style=\"font-family: sans-serif; font-size: 10px; fill: #000; opacity: 1;\">0</text><text text-anchor=\"end\" transform=\"translate(-7,457.54545454545456)\" style=\"font-family: sans-serif; font-size: 10px; fill: #000; opacity: 1;\">20</text><text text-anchor=\"end\" transform=\"translate(-7,412.0909090909091)\" style=\"font-family: sans-serif; font-size: 10px; fill: #000; opacity: 1;\">40</text><text text-anchor=\"end\" transform=\"translate(-7,366.6363636363636)\" style=\"font-family: sans-serif; font-size: 10px; fill: #000; opacity: 1;\">60</text><text text-anchor=\"end\" transform=\"translate(-7,321.1818181818182)\" style=\"font-family: sans-serif; font-size: 10px; fill: #000; opacity: 1;\">80</text><text text-anchor=\"end\" transform=\"translate(-7,275.72727272727275)\" style=\"font-family: sans-serif; font-size: 10px; fill: #000; opacity: 1;\">100</text><text text-anchor=\"end\" transform=\"translate(-7,230.2727272727273)\" style=\"font-family: sans-serif; font-size: 10px; fill: #000; opacity: 1;\">120</text><text text-anchor=\"end\" transform=\"translate(-7,184.8181818181818)\" style=\"font-family: sans-serif; font-size: 10px; fill: #000; opacity: 1;\">140</text><text text-anchor=\"end\" transform=\"translate(-7,139.36363636363637)\" style=\"font-family: sans-serif; font-size: 10px; fill: #000; opacity: 1;\">160</text><text text-anchor=\"end\" transform=\"translate(-7,93.90909090909088)\" style=\"font-family: sans-serif; font-size: 10px; fill: #000; opacity: 1;\">180</text><text text-anchor=\"end\" transform=\"translate(-7,48.454545454545496)\" style=\"font-family: sans-serif; font-size: 10px; fill: #000; opacity: 1;\">200</text><text text-anchor=\"end\" transform=\"translate(-7,3)\" style=\"font-family: sans-serif; font-size: 10px; fill: #000; opacity: 1;\">220</text></g><g class=\"mark-rule role-axis-domain\" style=\"pointer-events: none;\"><line transform=\"translate(0,500)\" x2=\"0\" y2=\"-500\" style=\"fill: none; stroke: #888; stroke-width: 1; opacity: 1;\"></line></g><g class=\"mark-text role-axis-title\" style=\"pointer-events: none;\"><text text-anchor=\"middle\" transform=\"translate(-26,250) rotate(-90) translate(0,-2)\" style=\"font-family: sans-serif; font-size: 11px; font-weight: bold; fill: #000; opacity: 1;\">Count</text></g></g></g></g></g></g></g></g></svg>"
      ],
      "text/plain": [
       "VegaLite.VLSpec{:plot}"
      ]
     },
     "execution_count": 97,
     "metadata": {},
     "output_type": "execute_result"
    }
   ],
   "source": [
    "Dataframe |>\n",
    "@vlplot(\n",
    "    :line,\n",
    "    x=:Date,\n",
    "    y=:Count,\n",
    "    color=:Origin,\n",
    "    width=500,\n",
    "    height=500\n",
    ")"
   ]
  },
  {
   "cell_type": "code",
   "execution_count": 98,
   "metadata": {},
   "outputs": [
    {
     "data": {
      "text/html": [
       "<table class=\"data-frame\"><thead><tr><th></th><th>ID</th><th>Date</th><th>DateType</th><th>Age</th><th>Sex</th><th>Race</th><th>ResidenceCity</th></tr><tr><th></th><th>String</th><th>SubStrin…</th><th>String⍰</th><th>Int64⍰</th><th>String⍰</th><th>String⍰</th><th>String⍰</th></tr></thead><tbody><p>3,796 rows × 48 columns (omitted printing of 41 columns)</p><tr><th>1</th><td>13-0102</td><td>2013</td><td>DateofDeath</td><td>48</td><td>Male</td><td>Black</td><td>NORWALK</td></tr><tr><th>2</th><td>13-0404</td><td>2013</td><td>DateofDeath</td><td>40</td><td>Female</td><td>White</td><td>HAMDEN</td></tr><tr><th>3</th><td>12-0107</td><td>2012</td><td>DateofDeath</td><td>40</td><td>Male</td><td>White</td><td>EAST HARTFORD</td></tr><tr><th>4</th><td>13-0161</td><td>2013</td><td>DateofDeath</td><td>50</td><td>Male</td><td>White</td><td>MONTVILLE</td></tr><tr><th>5</th><td>15-0232</td><td>2015</td><td>DateReported</td><td>50</td><td>Male</td><td>White</td><td>DANBURY</td></tr><tr><th>6</th><td>13-0279</td><td>2013</td><td>DateofDeath</td><td>45</td><td>Male</td><td>White</td><td>HARTFORD</td></tr><tr><th>7</th><td>12-0060</td><td>2012</td><td>DateofDeath</td><td>42</td><td>Male</td><td>White</td><td>WALLINGFORD</td></tr><tr><th>8</th><td>16-0065</td><td>2016</td><td>DateofDeath</td><td>54</td><td>Male</td><td>White</td><td>MIDDLETOWN</td></tr><tr><th>9</th><td>16-0889</td><td>2016</td><td>DateofDeath</td><td>32</td><td>Male</td><td>White</td><td>WINDHAM</td></tr><tr><th>10</th><td>14-0474</td><td>2014</td><td>DateofDeath</td><td>47</td><td>Male</td><td>White</td><td>BRIDGEPORT</td></tr><tr><th>11</th><td>15-0263</td><td>2015</td><td>DateReported</td><td>39</td><td>Female</td><td>White</td><td>ANSONIA</td></tr><tr><th>12</th><td>16-0688</td><td>2016</td><td>DateofDeath</td><td>34</td><td>Male</td><td>White</td><td>COS COB</td></tr><tr><th>13</th><td>18-0095</td><td>2018</td><td>DateReported</td><td>51</td><td>Male</td><td>White</td><td>HARTFORD</td></tr><tr><th>14</th><td>15-0098</td><td>2015</td><td>DateReported</td><td>35</td><td>Male</td><td>White</td><td>NEW BRITAIN</td></tr><tr><th>15</th><td>16-0316</td><td>2016</td><td>DateofDeath</td><td>43</td><td>Male</td><td>White</td><td>MELROSE</td></tr><tr><th>16</th><td>13-0441</td><td>2013</td><td>DateofDeath</td><td>48</td><td>Male</td><td>White</td><td>NORTH SALEM</td></tr><tr><th>17</th><td>18-0468</td><td>2018</td><td>DateReported</td><td>40</td><td>Female</td><td>White</td><td>TORRINGTON</td></tr><tr><th>18</th><td>18-0355</td><td>2018</td><td>DateReported</td><td>49</td><td>Female</td><td>White</td><td>SOUTHBURY</td></tr><tr><th>19</th><td>17-0907</td><td>2017</td><td>DateReported</td><td>40</td><td>Male</td><td>Black</td><td>NEW HAVEN</td></tr><tr><th>20</th><td>15-0475</td><td>2015</td><td>DateReported</td><td>51</td><td>Male</td><td>White</td><td>MIDDLETOWN</td></tr><tr><th>21</th><td>15-0314</td><td>2015</td><td>DateReported</td><td>55</td><td>Female</td><td>White</td><td>SAUGUS</td></tr><tr><th>22</th><td>15-0687</td><td>2015</td><td>DateReported</td><td>56</td><td>Male</td><td>Black</td><td>WATERBURY</td></tr><tr><th>23</th><td>17-0888</td><td>2017</td><td>DateReported</td><td>39</td><td>Male</td><td>White</td><td>MERIDEN</td></tr><tr><th>24</th><td>13-0263</td><td>2013</td><td>DateofDeath</td><td>35</td><td>Female</td><td>White</td><td>BRISTOL</td></tr><tr><th>25</th><td>18-0122</td><td>2018</td><td>DateReported</td><td>34</td><td>Male</td><td>White</td><td>GUILFORD</td></tr><tr><th>26</th><td>18-0001</td><td>2018</td><td>DateReported</td><td>39</td><td>Male</td><td>White</td><td>WALLINGFORD</td></tr><tr><th>27</th><td>14-0176</td><td>2014</td><td>DateofDeath</td><td>49</td><td>Female</td><td>Hispanic, White</td><td>STAMFORD</td></tr><tr><th>28</th><td>15-0066</td><td>2015</td><td>DateReported</td><td>49</td><td>Male</td><td>White</td><td>NEW BRITAIN</td></tr><tr><th>29</th><td>12-0353</td><td>2012</td><td>DateofDeath</td><td>50</td><td>Male</td><td>Hispanic, White</td><td>WINDHAM</td></tr><tr><th>30</th><td>18-1002</td><td>2018</td><td>DateofDeath</td><td>49</td><td>Male</td><td>White</td><td>WATERTOWN</td></tr><tr><th>&vellip;</th><td>&vellip;</td><td>&vellip;</td><td>&vellip;</td><td>&vellip;</td><td>&vellip;</td><td>&vellip;</td><td>&vellip;</td></tr></tbody></table>"
      ],
      "text/latex": [
       "\\begin{tabular}{r|cccccccc}\n",
       "\t& ID & Date & DateType & Age & Sex & Race & ResidenceCity & \\\\\n",
       "\t\\hline\n",
       "\t& String & SubStrin… & String⍰ & Int64⍰ & String⍰ & String⍰ & String⍰ & \\\\\n",
       "\t\\hline\n",
       "\t1 & 13-0102 & 2013 & DateofDeath & 48 & Male & Black & NORWALK & $\\dots$ \\\\\n",
       "\t2 & 13-0404 & 2013 & DateofDeath & 40 & Female & White & HAMDEN & $\\dots$ \\\\\n",
       "\t3 & 12-0107 & 2012 & DateofDeath & 40 & Male & White & EAST HARTFORD & $\\dots$ \\\\\n",
       "\t4 & 13-0161 & 2013 & DateofDeath & 50 & Male & White & MONTVILLE & $\\dots$ \\\\\n",
       "\t5 & 15-0232 & 2015 & DateReported & 50 & Male & White & DANBURY & $\\dots$ \\\\\n",
       "\t6 & 13-0279 & 2013 & DateofDeath & 45 & Male & White & HARTFORD & $\\dots$ \\\\\n",
       "\t7 & 12-0060 & 2012 & DateofDeath & 42 & Male & White & WALLINGFORD & $\\dots$ \\\\\n",
       "\t8 & 16-0065 & 2016 & DateofDeath & 54 & Male & White & MIDDLETOWN & $\\dots$ \\\\\n",
       "\t9 & 16-0889 & 2016 & DateofDeath & 32 & Male & White & WINDHAM & $\\dots$ \\\\\n",
       "\t10 & 14-0474 & 2014 & DateofDeath & 47 & Male & White & BRIDGEPORT & $\\dots$ \\\\\n",
       "\t11 & 15-0263 & 2015 & DateReported & 39 & Female & White & ANSONIA & $\\dots$ \\\\\n",
       "\t12 & 16-0688 & 2016 & DateofDeath & 34 & Male & White & COS COB & $\\dots$ \\\\\n",
       "\t13 & 18-0095 & 2018 & DateReported & 51 & Male & White & HARTFORD & $\\dots$ \\\\\n",
       "\t14 & 15-0098 & 2015 & DateReported & 35 & Male & White & NEW BRITAIN & $\\dots$ \\\\\n",
       "\t15 & 16-0316 & 2016 & DateofDeath & 43 & Male & White & MELROSE & $\\dots$ \\\\\n",
       "\t16 & 13-0441 & 2013 & DateofDeath & 48 & Male & White & NORTH SALEM & $\\dots$ \\\\\n",
       "\t17 & 18-0468 & 2018 & DateReported & 40 & Female & White & TORRINGTON & $\\dots$ \\\\\n",
       "\t18 & 18-0355 & 2018 & DateReported & 49 & Female & White & SOUTHBURY & $\\dots$ \\\\\n",
       "\t19 & 17-0907 & 2017 & DateReported & 40 & Male & Black & NEW HAVEN & $\\dots$ \\\\\n",
       "\t20 & 15-0475 & 2015 & DateReported & 51 & Male & White & MIDDLETOWN & $\\dots$ \\\\\n",
       "\t21 & 15-0314 & 2015 & DateReported & 55 & Female & White & SAUGUS & $\\dots$ \\\\\n",
       "\t22 & 15-0687 & 2015 & DateReported & 56 & Male & Black & WATERBURY & $\\dots$ \\\\\n",
       "\t23 & 17-0888 & 2017 & DateReported & 39 & Male & White & MERIDEN & $\\dots$ \\\\\n",
       "\t24 & 13-0263 & 2013 & DateofDeath & 35 & Female & White & BRISTOL & $\\dots$ \\\\\n",
       "\t25 & 18-0122 & 2018 & DateReported & 34 & Male & White & GUILFORD & $\\dots$ \\\\\n",
       "\t26 & 18-0001 & 2018 & DateReported & 39 & Male & White & WALLINGFORD & $\\dots$ \\\\\n",
       "\t27 & 14-0176 & 2014 & DateofDeath & 49 & Female & Hispanic, White & STAMFORD & $\\dots$ \\\\\n",
       "\t28 & 15-0066 & 2015 & DateReported & 49 & Male & White & NEW BRITAIN & $\\dots$ \\\\\n",
       "\t29 & 12-0353 & 2012 & DateofDeath & 50 & Male & Hispanic, White & WINDHAM & $\\dots$ \\\\\n",
       "\t30 & 18-1002 & 2018 & DateofDeath & 49 & Male & White & WATERTOWN & $\\dots$ \\\\\n",
       "\t$\\dots$ & $\\dots$ & $\\dots$ & $\\dots$ & $\\dots$ & $\\dots$ & $\\dots$ & $\\dots$ &  \\\\\n",
       "\\end{tabular}\n"
      ],
      "text/plain": [
       "3796×48 DataFrame. Omitted printing of 42 columns\n",
       "│ Row  │ ID      │ Date      │ DateType     │ Age    │ Sex     │ Race    │\n",
       "│      │ \u001b[90mString\u001b[39m  │ \u001b[90mSubStrin…\u001b[39m │ \u001b[90mString⍰\u001b[39m      │ \u001b[90mInt64⍰\u001b[39m │ \u001b[90mString⍰\u001b[39m │ \u001b[90mString⍰\u001b[39m │\n",
       "├──────┼─────────┼───────────┼──────────────┼────────┼─────────┼─────────┤\n",
       "│ 1    │ 13-0102 │ 2013      │ DateofDeath  │ 48     │ Male    │ Black   │\n",
       "│ 2    │ 13-0404 │ 2013      │ DateofDeath  │ 40     │ Female  │ White   │\n",
       "│ 3    │ 12-0107 │ 2012      │ DateofDeath  │ 40     │ Male    │ White   │\n",
       "│ 4    │ 13-0161 │ 2013      │ DateofDeath  │ 50     │ Male    │ White   │\n",
       "│ 5    │ 15-0232 │ 2015      │ DateReported │ 50     │ Male    │ White   │\n",
       "│ 6    │ 13-0279 │ 2013      │ DateofDeath  │ 45     │ Male    │ White   │\n",
       "│ 7    │ 12-0060 │ 2012      │ DateofDeath  │ 42     │ Male    │ White   │\n",
       "│ 8    │ 16-0065 │ 2016      │ DateofDeath  │ 54     │ Male    │ White   │\n",
       "│ 9    │ 16-0889 │ 2016      │ DateofDeath  │ 32     │ Male    │ White   │\n",
       "│ 10   │ 14-0474 │ 2014      │ DateofDeath  │ 47     │ Male    │ White   │\n",
       "⋮\n",
       "│ 3786 │ 16-0847 │ 2016      │ DateofDeath  │ 35     │ Male    │ White   │\n",
       "│ 3787 │ 16-0902 │ 2016      │ DateofDeath  │ 35     │ Male    │ Other   │\n",
       "│ 3788 │ 17-0525 │ 2017      │ DateReported │ 33     │ Female  │ Black   │\n",
       "│ 3789 │ 18-0460 │ 2018      │ DateReported │ 32     │ Male    │ White   │\n",
       "│ 3790 │ 18-0206 │ 2018      │ DateReported │ 37     │ Male    │ White   │\n",
       "│ 3791 │ 16-0520 │ 2016      │ DateofDeath  │ 54     │ Female  │ White   │\n",
       "│ 3792 │ 14-0166 │ 2014      │ DateofDeath  │ 56     │ Male    │ White   │\n",
       "│ 3793 │ 15-0013 │ 2015      │ DateReported │ 45     │ Female  │ White   │\n",
       "│ 3794 │ 15-0466 │ 2015      │ DateReported │ 43     │ Male    │ White   │\n",
       "│ 3795 │ 14-0124 │ 2014      │ DateofDeath  │ 33     │ Male    │ White   │\n",
       "│ 3796 │ 16-0637 │ 2016      │ DateofDeath  │ 33     │ Male    │ White   │"
      ]
     },
     "execution_count": 98,
     "metadata": {},
     "output_type": "execute_result"
    }
   ],
   "source": [
    "using Query\n",
    "Filtered_DataFrame_oldAge = Data_DrugAccident_YearWise |> # filter the dataset on the basis of age greater than 30\n",
    "  @filter(_.Age > 30)|>\n",
    "  DataFrame"
   ]
  },
  {
   "cell_type": "code",
   "execution_count": 99,
   "metadata": {},
   "outputs": [
    {
     "data": {
      "text/html": [
       "<table class=\"data-frame\"><thead><tr><th></th><th>Date</th><th>Count</th></tr><tr><th></th><th>SubStrin…</th><th>Int64</th></tr></thead><tbody><p>7 rows × 2 columns</p><tr><th>1</th><td>2013</td><td>352</td></tr><tr><th>2</th><td>2012</td><td>259</td></tr><tr><th>3</th><td>2015</td><td>534</td></tr><tr><th>4</th><td>2016</td><td>690</td></tr><tr><th>5</th><td>2014</td><td>410</td></tr><tr><th>6</th><td>2018</td><td>783</td></tr><tr><th>7</th><td>2017</td><td>768</td></tr></tbody></table>"
      ],
      "text/latex": [
       "\\begin{tabular}{r|cc}\n",
       "\t& Date & Count\\\\\n",
       "\t\\hline\n",
       "\t& SubStrin… & Int64\\\\\n",
       "\t\\hline\n",
       "\t1 & 2013 & 352 \\\\\n",
       "\t2 & 2012 & 259 \\\\\n",
       "\t3 & 2015 & 534 \\\\\n",
       "\t4 & 2016 & 690 \\\\\n",
       "\t5 & 2014 & 410 \\\\\n",
       "\t6 & 2018 & 783 \\\\\n",
       "\t7 & 2017 & 768 \\\\\n",
       "\\end{tabular}\n"
      ],
      "text/plain": [
       "7×2 DataFrame\n",
       "│ Row │ Date      │ Count │\n",
       "│     │ \u001b[90mSubStrin…\u001b[39m │ \u001b[90mInt64\u001b[39m │\n",
       "├─────┼───────────┼───────┤\n",
       "│ 1   │ 2013      │ 352   │\n",
       "│ 2   │ 2012      │ 259   │\n",
       "│ 3   │ 2015      │ 534   │\n",
       "│ 4   │ 2016      │ 690   │\n",
       "│ 5   │ 2014      │ 410   │\n",
       "│ 6   │ 2018      │ 783   │\n",
       "│ 7   │ 2017      │ 768   │"
      ]
     },
     "execution_count": 99,
     "metadata": {},
     "output_type": "execute_result"
    }
   ],
   "source": [
    "using Query\n",
    "using DataFrames\n",
    "using Statistics\n",
    "\n",
    "Dataframe = by(Filtered_DataFrame_oldAge, :Date) do group # group the dataset on year and count number of accidents\n",
    "    #DataFrame(count = count(skipmissing(group[!,:Sex])))\n",
    "    DataFrame(Count = sum(group[!,:B]))\n",
    "end\n",
    "Dataframe"
   ]
  },
  {
   "cell_type": "code",
   "execution_count": 101,
   "metadata": {},
   "outputs": [
    {
     "data": {
      "application/vnd.vegalite.v3+json": {
       "data": {
        "values": [
         {
          "Count": 352,
          "Date": "2013"
         },
         {
          "Count": 259,
          "Date": "2012"
         },
         {
          "Count": 534,
          "Date": "2015"
         },
         {
          "Count": 690,
          "Date": "2016"
         },
         {
          "Count": 410,
          "Date": "2014"
         },
         {
          "Count": 783,
          "Date": "2018"
         },
         {
          "Count": 768,
          "Date": "2017"
         }
        ]
       },
       "encoding": {
        "x": {
         "field": "Date",
         "type": "nominal"
        },
        "y": {
         "field": "Count",
         "type": "quantitative"
        }
       },
       "height": 500,
       "mark": "line",
       "width": 500
      },
      "image/png": "[encoded data removed]",
      "image/svg+xml": [
       "<svg class=\"marks\" width=\"547\" height=\"557\" viewBox=\"0 0 547 557\" version=\"1.1\" xmlns=\"http://www.w3.org/2000/svg\" xmlns:xlink=\"http://www.w3.org/1999/xlink\"><g transform=\"translate(42,10)\"><g class=\"mark-group role-frame root\"><g transform=\"translate(0,0)\"><path class=\"background\" d=\"M0.5,0.5h500v500h-500Z\" style=\"fill: none; stroke: #ddd;\"></path><g><g class=\"mark-group role-axis\"><g transform=\"translate(0.5,0.5)\"><path class=\"background\" d=\"M0,0h0v0h0Z\" style=\"pointer-events: none; fill: none;\"></path><g><g class=\"mark-rule role-axis-grid\" style=\"pointer-events: none;\"><line transform=\"translate(0,500)\" x2=\"500\" y2=\"0\" style=\"fill: none; stroke: #ddd; stroke-width: 1; opacity: 1;\"></line><line transform=\"translate(0,469)\" x2=\"500\" y2=\"0\" style=\"fill: none; stroke: #ddd; stroke-width: 1; opacity: 1;\"></line><line transform=\"translate(0,438)\" x2=\"500\" y2=\"0\" style=\"fill: none; stroke: #ddd; stroke-width: 1; opacity: 1;\"></line><line transform=\"translate(0,406)\" x2=\"500\" y2=\"0\" style=\"fill: none; stroke: #ddd; stroke-width: 1; opacity: 1;\"></line><line transform=\"translate(0,375)\" x2=\"500\" y2=\"0\" style=\"fill: none; stroke: #ddd; stroke-width: 1; opacity: 1;\"></line><line transform=\"translate(0,344)\" x2=\"500\" y2=\"0\" style=\"fill: none; stroke: #ddd; stroke-width: 1; opacity: 1;\"></line><line transform=\"translate(0,313)\" x2=\"500\" y2=\"0\" style=\"fill: none; stroke: #ddd; stroke-width: 1; opacity: 1;\"></line><line transform=\"translate(0,281)\" x2=\"500\" y2=\"0\" style=\"fill: none; stroke: #ddd; stroke-width: 1; opacity: 1;\"></line><line transform=\"translate(0,250)\" x2=\"500\" y2=\"0\" style=\"fill: none; stroke: #ddd; stroke-width: 1; opacity: 1;\"></line><line transform=\"translate(0,219)\" x2=\"500\" y2=\"0\" style=\"fill: none; stroke: #ddd; stroke-width: 1; opacity: 1;\"></line><line transform=\"translate(0,188)\" x2=\"500\" y2=\"0\" style=\"fill: none; stroke: #ddd; stroke-width: 1; opacity: 1;\"></line><line transform=\"translate(0,156)\" x2=\"500\" y2=\"0\" style=\"fill: none; stroke: #ddd; stroke-width: 1; opacity: 1;\"></line><line transform=\"translate(0,125)\" x2=\"500\" y2=\"0\" style=\"fill: none; stroke: #ddd; stroke-width: 1; opacity: 1;\"></line><line transform=\"translate(0,94)\" x2=\"500\" y2=\"0\" style=\"fill: none; stroke: #ddd; stroke-width: 1; opacity: 1;\"></line><line transform=\"translate(0,63)\" x2=\"500\" y2=\"0\" style=\"fill: none; stroke: #ddd; stroke-width: 1; opacity: 1;\"></line><line transform=\"translate(0,31)\" x2=\"500\" y2=\"0\" style=\"fill: none; stroke: #ddd; stroke-width: 1; opacity: 1;\"></line><line transform=\"translate(0,0)\" x2=\"500\" y2=\"0\" style=\"fill: none; stroke: #ddd; stroke-width: 1; opacity: 1;\"></line></g></g></g></g><g class=\"mark-line role-mark marks\"><path d=\"M464.2857142857143,10.625L392.8571428571429,20L321.42857142857144,68.75L250,166.25L178.57142857142858,243.75L107.14285714285715,280L35.71428571428572,338.125\" style=\"fill: none; stroke: #4c78a8; stroke-width: 2;\"></path></g><g class=\"mark-group role-axis\"><g transform=\"translate(0.5,500.5)\"><path class=\"background\" d=\"M0,0h0v0h0Z\" style=\"pointer-events: none; fill: none;\"></path><g><g class=\"mark-rule role-axis-tick\" style=\"pointer-events: none;\"><line transform=\"translate(36,0)\" x2=\"0\" y2=\"5\" style=\"fill: none; stroke: #888; stroke-width: 1; opacity: 1;\"></line><line transform=\"translate(107,0)\" x2=\"0\" y2=\"5\" style=\"fill: none; stroke: #888; stroke-width: 1; opacity: 1;\"></line><line transform=\"translate(179,0)\" x2=\"0\" y2=\"5\" style=\"fill: none; stroke: #888; stroke-width: 1; opacity: 1;\"></line><line transform=\"translate(250,0)\" x2=\"0\" y2=\"5\" style=\"fill: none; stroke: #888; stroke-width: 1; opacity: 1;\"></line><line transform=\"translate(321,0)\" x2=\"0\" y2=\"5\" style=\"fill: none; stroke: #888; stroke-width: 1; opacity: 1;\"></line><line transform=\"translate(393,0)\" x2=\"0\" y2=\"5\" style=\"fill: none; stroke: #888; stroke-width: 1; opacity: 1;\"></line><line transform=\"translate(464,0)\" x2=\"0\" y2=\"5\" style=\"fill: none; stroke: #888; stroke-width: 1; opacity: 1;\"></line></g><g class=\"mark-text role-axis-label\" style=\"pointer-events: none;\"><text text-anchor=\"end\" transform=\"translate(35.71428571428572,7) rotate(270) translate(0,3)\" style=\"font-family: sans-serif; font-size: 10px; fill: #000; opacity: 1;\">2012</text><text text-anchor=\"end\" transform=\"translate(107.14285714285715,7) rotate(270) translate(0,3)\" style=\"font-family: sans-serif; font-size: 10px; fill: #000; opacity: 1;\">2013</text><text text-anchor=\"end\" transform=\"translate(178.57142857142858,7) rotate(270) translate(0,3)\" style=\"font-family: sans-serif; font-size: 10px; fill: #000; opacity: 1;\">2014</text><text text-anchor=\"end\" transform=\"translate(250,7) rotate(270) translate(0,3)\" style=\"font-family: sans-serif; font-size: 10px; fill: #000; opacity: 1;\">2015</text><text text-anchor=\"end\" transform=\"translate(321.42857142857144,7) rotate(270) translate(0,3)\" style=\"font-family: sans-serif; font-size: 10px; fill: #000; opacity: 1;\">2016</text><text text-anchor=\"end\" transform=\"translate(392.8571428571429,7) rotate(270) translate(0,3)\" style=\"font-family: sans-serif; font-size: 10px; fill: #000; opacity: 1;\">2017</text><text text-anchor=\"end\" transform=\"translate(464.2857142857143,7) rotate(270) translate(0,3)\" style=\"font-family: sans-serif; font-size: 10px; fill: #000; opacity: 1;\">2018</text></g><g class=\"mark-rule role-axis-domain\" style=\"pointer-events: none;\"><line transform=\"translate(0,0)\" x2=\"500\" y2=\"0\" style=\"fill: none; stroke: #888; stroke-width: 1; opacity: 1;\"></line></g><g class=\"mark-text role-axis-title\" style=\"pointer-events: none;\"><text text-anchor=\"middle\" transform=\"translate(250,40)\" style=\"font-family: sans-serif; font-size: 11px; font-weight: bold; fill: #000; opacity: 1;\">Date</text></g></g></g></g><g class=\"mark-group role-axis\"><g transform=\"translate(0.5,0.5)\"><path class=\"background\" d=\"M0,0h0v0h0Z\" style=\"pointer-events: none; fill: none;\"></path><g><g class=\"mark-rule role-axis-tick\" style=\"pointer-events: none;\"><line transform=\"translate(0,500)\" x2=\"-5\" y2=\"0\" style=\"fill: none; stroke: #888; stroke-width: 1; opacity: 1;\"></line><line transform=\"translate(0,469)\" x2=\"-5\" y2=\"0\" style=\"fill: none; stroke: #888; stroke-width: 1; opacity: 1;\"></line><line transform=\"translate(0,438)\" x2=\"-5\" y2=\"0\" style=\"fill: none; stroke: #888; stroke-width: 1; opacity: 1;\"></line><line transform=\"translate(0,406)\" x2=\"-5\" y2=\"0\" style=\"fill: none; stroke: #888; stroke-width: 1; opacity: 1;\"></line><line transform=\"translate(0,375)\" x2=\"-5\" y2=\"0\" style=\"fill: none; stroke: #888; stroke-width: 1; opacity: 1;\"></line><line transform=\"translate(0,344)\" x2=\"-5\" y2=\"0\" style=\"fill: none; stroke: #888; stroke-width: 1; opacity: 1;\"></line><line transform=\"translate(0,313)\" x2=\"-5\" y2=\"0\" style=\"fill: none; stroke: #888; stroke-width: 1; opacity: 1;\"></line><line transform=\"translate(0,281)\" x2=\"-5\" y2=\"0\" style=\"fill: none; stroke: #888; stroke-width: 1; opacity: 1;\"></line><line transform=\"translate(0,250)\" x2=\"-5\" y2=\"0\" style=\"fill: none; stroke: #888; stroke-width: 1; opacity: 1;\"></line><line transform=\"translate(0,219)\" x2=\"-5\" y2=\"0\" style=\"fill: none; stroke: #888; stroke-width: 1; opacity: 1;\"></line><line transform=\"translate(0,188)\" x2=\"-5\" y2=\"0\" style=\"fill: none; stroke: #888; stroke-width: 1; opacity: 1;\"></line><line transform=\"translate(0,156)\" x2=\"-5\" y2=\"0\" style=\"fill: none; stroke: #888; stroke-width: 1; opacity: 1;\"></line><line transform=\"translate(0,125)\" x2=\"-5\" y2=\"0\" style=\"fill: none; stroke: #888; stroke-width: 1; opacity: 1;\"></line><line transform=\"translate(0,94)\" x2=\"-5\" y2=\"0\" style=\"fill: none; stroke: #888; stroke-width: 1; opacity: 1;\"></line><line transform=\"translate(0,63)\" x2=\"-5\" y2=\"0\" style=\"fill: none; stroke: #888; stroke-width: 1; opacity: 1;\"></line><line transform=\"translate(0,31)\" x2=\"-5\" y2=\"0\" style=\"fill: none; stroke: #888; stroke-width: 1; opacity: 1;\"></line><line transform=\"translate(0,0)\" x2=\"-5\" y2=\"0\" style=\"fill: none; stroke: #888; stroke-width: 1; opacity: 1;\"></line></g><g class=\"mark-text role-axis-label\" style=\"pointer-events: none;\"><text text-anchor=\"end\" transform=\"translate(-7,503)\" style=\"font-family: sans-serif; font-size: 10px; fill: #000; opacity: 1;\">0</text><text text-anchor=\"end\" transform=\"translate(-7,471.75)\" style=\"font-family: sans-serif; font-size: 10px; fill: #000; opacity: 1;\">50</text><text text-anchor=\"end\" transform=\"translate(-7,440.5)\" style=\"font-family: sans-serif; font-size: 10px; fill: #000; opacity: 1;\">100</text><text text-anchor=\"end\" transform=\"translate(-7,409.25)\" style=\"font-family: sans-serif; font-size: 10px; fill: #000; opacity: 1;\">150</text><text text-anchor=\"end\" transform=\"translate(-7,378)\" style=\"font-family: sans-serif; font-size: 10px; fill: #000; opacity: 1;\">200</text><text text-anchor=\"end\" transform=\"translate(-7,346.75)\" style=\"font-family: sans-serif; font-size: 10px; fill: #000; opacity: 1;\">250</text><text text-anchor=\"end\" transform=\"translate(-7,315.5)\" style=\"font-family: sans-serif; font-size: 10px; fill: #000; opacity: 1;\">300</text><text text-anchor=\"end\" transform=\"translate(-7,284.25)\" style=\"font-family: sans-serif; font-size: 10px; fill: #000; opacity: 1;\">350</text><text text-anchor=\"end\" transform=\"translate(-7,253)\" style=\"font-family: sans-serif; font-size: 10px; fill: #000; opacity: 1;\">400</text><text text-anchor=\"end\" transform=\"translate(-7,221.75)\" style=\"font-family: sans-serif; font-size: 10px; fill: #000; opacity: 1;\">450</text><text text-anchor=\"end\" transform=\"translate(-7,190.5)\" style=\"font-family: sans-serif; font-size: 10px; fill: #000; opacity: 1;\">500</text><text text-anchor=\"end\" transform=\"translate(-7,159.25)\" style=\"font-family: sans-serif; font-size: 10px; fill: #000; opacity: 1;\">550</text><text text-anchor=\"end\" transform=\"translate(-7,128)\" style=\"font-family: sans-serif; font-size: 10px; fill: #000; opacity: 1;\">600</text><text text-anchor=\"end\" transform=\"translate(-7,96.75)\" style=\"font-family: sans-serif; font-size: 10px; fill: #000; opacity: 1;\">650</text><text text-anchor=\"end\" transform=\"translate(-7,65.5)\" style=\"font-family: sans-serif; font-size: 10px; fill: #000; opacity: 1;\">700</text><text text-anchor=\"end\" transform=\"translate(-7,34.25)\" style=\"font-family: sans-serif; font-size: 10px; fill: #000; opacity: 1;\">750</text><text text-anchor=\"end\" transform=\"translate(-7,3)\" style=\"font-family: sans-serif; font-size: 10px; fill: #000; opacity: 1;\">800</text></g><g class=\"mark-rule role-axis-domain\" style=\"pointer-events: none;\"><line transform=\"translate(0,500)\" x2=\"0\" y2=\"-500\" style=\"fill: none; stroke: #888; stroke-width: 1; opacity: 1;\"></line></g><g class=\"mark-text role-axis-title\" style=\"pointer-events: none;\"><text text-anchor=\"middle\" transform=\"translate(-26,250) rotate(-90) translate(0,-2)\" style=\"font-family: sans-serif; font-size: 11px; font-weight: bold; fill: #000; opacity: 1;\">Count</text></g></g></g></g></g></g></g></g></svg>"
      ],
      "text/plain": [
       "VegaLite.VLSpec{:plot}"
      ]
     },
     "execution_count": 101,
     "metadata": {},
     "output_type": "execute_result"
    }
   ],
   "source": [
    "Dataframe |>\n",
    "@vlplot(\n",
    "    :line,\n",
    "    x=:Date,\n",
    "    y=:Count,\n",
    "    width=500,\n",
    "    height=500\n",
    ")"
   ]
  }
 ],
 "metadata": {
  "kernelspec": {
   "display_name": "Julia 1.1.1",
   "language": "julia",
   "name": "julia-1.1"
  },
  "language_info": {
   "file_extension": ".jl",
   "mimetype": "application/julia",
   "name": "julia",
   "version": "1.1.1"
  }
 },
 "nbformat": 4,
 "nbformat_minor": 2
}
