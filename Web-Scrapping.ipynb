{
 "cells": [
  {
   "cell_type": "code",
   "execution_count": null,
   "metadata": {},
   "outputs": [],
   "source": [
    "                               # Data Wrangling Project  (Web Scrapping)"
   ]
  },
  {
   "cell_type": "code",
   "execution_count": null,
   "metadata": {},
   "outputs": [],
   "source": [
    "#STUDENT NAMES AND RESPECTIVE IDs WHO WORKED IN PAIRS ARE AS BELOW"
   ]
  },
  {
   "cell_type": "code",
   "execution_count": null,
   "metadata": {},
   "outputs": [],
   "source": [
    "# NEHA THAKKAR (ID - 51192498)\n",
    "# MRINAL JYOTI KUMAR (ID - 96475046)\n",
    "# SIDDHARTH RANA (ID-45562544)\n",
    "# SUDHANSHU KAUSHIK(ID- 75074054)\n"
   ]
  },
  {
   "cell_type": "code",
   "execution_count": 3,
   "metadata": {},
   "outputs": [],
   "source": [
    "# Loading the required packages for web-scrapping"
   ]
  },
  {
   "cell_type": "code",
   "execution_count": null,
   "metadata": {},
   "outputs": [],
   "source": [
    "library(tidyverse)"
   ]
  },
  {
   "cell_type": "code",
   "execution_count": 4,
   "metadata": {},
   "outputs": [],
   "source": [
    "library(magrittr)\n",
    "library(purrr)\n",
    "library(glue)\n",
    "library(stringr)\n",
    "library(rvest)"
   ]
  },
  {
   "cell_type": "code",
   "execution_count": null,
   "metadata": {},
   "outputs": [],
   "source": [
    "# Loading the web url into a variable and reading the same"
   ]
  },
  {
   "cell_type": "code",
   "execution_count": 5,
   "metadata": {},
   "outputs": [
    {
     "data": {
      "text/plain": [
       "{html_document}\n",
       "<html lang=\"en-US\">\n",
       "[1] <head>\\n<meta http-equiv=\"Content-Type\" content=\"text/html; charset=UTF-8 ...\n",
       "[2] <body class=\"page-white info-drug-illegal\" data-segment=\"info-drug-illega ..."
      ]
     },
     "metadata": {},
     "output_type": "display_data"
    }
   ],
   "source": [
    "my_url <- \"https://sunrisehouse.com/cause-effect/reasons-addiction/\"\n",
    "my_homepage <- read_html(my_url)\n",
    "my_homepage"
   ]
  },
  {
   "cell_type": "code",
   "execution_count": null,
   "metadata": {},
   "outputs": [],
   "source": [
    "# From the html page which is loaded above, we will retrieve all the available drug intake reasons"
   ]
  },
  {
   "cell_type": "code",
   "execution_count": 7,
   "metadata": {},
   "outputs": [],
   "source": [
    "my_drugintake_reasons <- my_homepage %>% html_nodes(\".content li\") %>% html_text()\n",
    "my_reasons <- my_drugintake_reasons[1: 6]"
   ]
  },
  {
   "cell_type": "code",
   "execution_count": null,
   "metadata": {},
   "outputs": [],
   "source": [
    "# Storing the above characters as a dataframe object"
   ]
  },
  {
   "cell_type": "code",
   "execution_count": 8,
   "metadata": {},
   "outputs": [
    {
     "name": "stderr",
     "output_type": "stream",
     "text": [
      "Warning message:\n",
      "\"`data_frame()` is deprecated, use `tibble()`.\n",
      "\u001b[90mThis warning is displayed once per session.\u001b[39m\""
     ]
    },
    {
     "data": {
      "text/html": [
       "<table>\n",
       "<caption>A tibble: 6 × 1</caption>\n",
       "<thead>\n",
       "\t<tr><th scope=col>Reasons_Of_Drug_Intake</th></tr>\n",
       "\t<tr><th scope=col>&lt;chr&gt;</th></tr>\n",
       "</thead>\n",
       "<tbody>\n",
       "\t<tr><td>Genetics or individual biology                      </td></tr>\n",
       "\t<tr><td>Family history of addiction                         </td></tr>\n",
       "\t<tr><td>Peer pressure                                       </td></tr>\n",
       "\t<tr><td>Co-occurring mental health conditions               </td></tr>\n",
       "\t<tr><td>Experimentation with substance use at a young age   </td></tr>\n",
       "\t<tr><td>Questionable prescribing practices and other factors</td></tr>\n",
       "</tbody>\n",
       "</table>\n"
      ],
      "text/latex": [
       "A tibble: 6 × 1\n",
       "\\begin{tabular}{r|l}\n",
       " Reasons\\_Of\\_Drug\\_Intake\\\\\n",
       " <chr>\\\\\n",
       "\\hline\n",
       "\t Genetics or individual biology                      \\\\\n",
       "\t Family history of addiction                         \\\\\n",
       "\t Peer pressure                                       \\\\\n",
       "\t Co-occurring mental health conditions               \\\\\n",
       "\t Experimentation with substance use at a young age   \\\\\n",
       "\t Questionable prescribing practices and other factors\\\\\n",
       "\\end{tabular}\n"
      ],
      "text/markdown": [
       "\n",
       "A tibble: 6 × 1\n",
       "\n",
       "| Reasons_Of_Drug_Intake &lt;chr&gt; |\n",
       "|---|\n",
       "| Genetics or individual biology                       |\n",
       "| Family history of addiction                          |\n",
       "| Peer pressure                                        |\n",
       "| Co-occurring mental health conditions                |\n",
       "| Experimentation with substance use at a young age    |\n",
       "| Questionable prescribing practices and other factors |\n",
       "\n"
      ],
      "text/plain": [
       "  Reasons_Of_Drug_Intake                              \n",
       "1 Genetics or individual biology                      \n",
       "2 Family history of addiction                         \n",
       "3 Peer pressure                                       \n",
       "4 Co-occurring mental health conditions               \n",
       "5 Experimentation with substance use at a young age   \n",
       "6 Questionable prescribing practices and other factors"
      ]
     },
     "metadata": {},
     "output_type": "display_data"
    }
   ],
   "source": [
    "my_reasons_df <- data_frame(Reasons_Of_Drug_Intake=my_reasons)\n",
    "my_reasons_df"
   ]
  },
  {
   "cell_type": "code",
   "execution_count": null,
   "metadata": {},
   "outputs": [],
   "source": [
    "# Loading the web url into a variable and reading the same"
   ]
  },
  {
   "cell_type": "code",
   "execution_count": 13,
   "metadata": {},
   "outputs": [
    {
     "data": {
      "text/plain": [
       "{html_document}\n",
       "<html lang=\"en-US\">\n",
       "[1] <head>\\n<meta http-equiv=\"Content-Type\" content=\"text/html; charset=UTF-8 ...\n",
       "[2] <body class=\"page-white info-drug-illegal\" data-segment=\"info-drug-illega ..."
      ]
     },
     "metadata": {},
     "output_type": "display_data"
    }
   ],
   "source": [
    "my_url <- \"https://sunrisehouse.com/assessment-diagnose/drug-addiction/\"\n",
    "my_homepage <- read_html(my_url)\n",
    "my_homepage"
   ]
  },
  {
   "cell_type": "code",
   "execution_count": null,
   "metadata": {},
   "outputs": [],
   "source": [
    "# From the html page which is loaded above, we will retrieve all the available drug treatment reasons and storing as a dataframe object"
   ]
  },
  {
   "cell_type": "code",
   "execution_count": 23,
   "metadata": {},
   "outputs": [],
   "source": [
    "my_drugintake_treatment <- my_homepage %>% html_nodes(\".content h2\") %>% html_text()"
   ]
  },
  {
   "cell_type": "code",
   "execution_count": 24,
   "metadata": {},
   "outputs": [
    {
     "data": {
      "text/html": [
       "<table>\n",
       "<caption>A tibble: 4 × 1</caption>\n",
       "<thead>\n",
       "\t<tr><th scope=col>Treatment_Of_Drug_Addiction</th></tr>\n",
       "\t<tr><th scope=col>&lt;chr&gt;</th></tr>\n",
       "</thead>\n",
       "<tbody>\n",
       "\t<tr><td>Step 1: Visit a general practitioner or other medical professional.</td></tr>\n",
       "\t<tr><td>Step 2: Visit a mental health professional.                        </td></tr>\n",
       "\t<tr><td>Step 3: Undergo a formal assessment.                               </td></tr>\n",
       "\t<tr><td>Step 4: Create a treatment plan.                                   </td></tr>\n",
       "</tbody>\n",
       "</table>\n"
      ],
      "text/latex": [
       "A tibble: 4 × 1\n",
       "\\begin{tabular}{r|l}\n",
       " Treatment\\_Of\\_Drug\\_Addiction\\\\\n",
       " <chr>\\\\\n",
       "\\hline\n",
       "\t Step 1: Visit a general practitioner or other medical professional.\\\\\n",
       "\t Step 2: Visit a mental health professional.                        \\\\\n",
       "\t Step 3: Undergo a formal assessment.                               \\\\\n",
       "\t Step 4: Create a treatment plan.                                   \\\\\n",
       "\\end{tabular}\n"
      ],
      "text/markdown": [
       "\n",
       "A tibble: 4 × 1\n",
       "\n",
       "| Treatment_Of_Drug_Addiction &lt;chr&gt; |\n",
       "|---|\n",
       "| Step 1: Visit a general practitioner or other medical professional. |\n",
       "| Step 2: Visit a mental health professional.                         |\n",
       "| Step 3: Undergo a formal assessment.                                |\n",
       "| Step 4: Create a treatment plan.                                    |\n",
       "\n"
      ],
      "text/plain": [
       "  Treatment_Of_Drug_Addiction                                        \n",
       "1 Step 1: Visit a general practitioner or other medical professional.\n",
       "2 Step 2: Visit a mental health professional.                        \n",
       "3 Step 3: Undergo a formal assessment.                               \n",
       "4 Step 4: Create a treatment plan.                                   "
      ]
     },
     "metadata": {},
     "output_type": "display_data"
    }
   ],
   "source": [
    "my_treatment_df <- data_frame(Treatment_Of_Drug_Addiction=my_drugintake_treatment)\n",
    "my_treatment_df"
   ]
  }
 ],
 "metadata": {
  "kernelspec": {
   "display_name": "R",
   "language": "R",
   "name": "ir"
  },
  "language_info": {
   "codemirror_mode": "r",
   "file_extension": ".r",
   "mimetype": "text/x-r-source",
   "name": "R",
   "pygments_lexer": "r",
   "version": "3.6.1"
  }
 },
 "nbformat": 4,
 "nbformat_minor": 4
}
